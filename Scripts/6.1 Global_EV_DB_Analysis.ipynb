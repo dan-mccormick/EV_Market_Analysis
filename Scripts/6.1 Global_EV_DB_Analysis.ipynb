{
 "cells": [
  {
   "cell_type": "code",
   "execution_count": 1,
   "id": "f4a0ea4d",
   "metadata": {},
   "outputs": [],
   "source": [
    "import pandas as pd\n",
    "import numpy as np\n",
    "import os "
   ]
  },
  {
   "cell_type": "code",
   "execution_count": 2,
   "id": "10e639a6",
   "metadata": {},
   "outputs": [],
   "source": [
    "path = r'/Users/danielmccormick/Desktop/CareerFoundry/Advanced Analytics & Dashboard Design/6.1_ElectricVehicles/Data'"
   ]
  },
  {
   "cell_type": "markdown",
   "id": "6155a759",
   "metadata": {},
   "source": [
    "In Excel, the data has already been transformed from five tables, individual tables for cars, vans, buses, and trucks with sales, stock, % of sales, and % of stock data, and one table with data on charging stations, into three tables. One with sales and stock information (df_sales_stock/df_sales_stock_imputed) one with % of sales and % of stock information (df_shares/df_shares_imputed), and one with information on charging stations (df_chargers/df_chargers_imputed)."
   ]
  },
  {
   "cell_type": "markdown",
   "id": "b9c728de",
   "metadata": {},
   "source": [
    "During the process of transforming the data in Excel, if there were any missing data points for the period of 2010-2022 (the period of the data set), a value of zero was imputed. Those tables were then saved for further analysis. They are the dataframes with \"imputed\" at the end of the dataframe name. In order to have data sets that only include data explicitly reported by the IEA (without the imputed values), there are also data sets where the imputed values were then filtered back out. These are the dataframes without \"imputed\" in the name. This script will perform data cleaning and basic exploratory analysis on both data sets. "
   ]
  },
  {
   "cell_type": "code",
   "execution_count": 3,
   "id": "5ec59097",
   "metadata": {},
   "outputs": [],
   "source": [
    "df_sales_stock = pd.read_csv(os.path.join(path, 'EV_Sales_Stock.csv'), index_col = False)"
   ]
  },
  {
   "cell_type": "code",
   "execution_count": 4,
   "id": "b35fdef6",
   "metadata": {},
   "outputs": [
    {
     "data": {
      "text/html": [
       "<div>\n",
       "<style scoped>\n",
       "    .dataframe tbody tr th:only-of-type {\n",
       "        vertical-align: middle;\n",
       "    }\n",
       "\n",
       "    .dataframe tbody tr th {\n",
       "        vertical-align: top;\n",
       "    }\n",
       "\n",
       "    .dataframe thead th {\n",
       "        text-align: right;\n",
       "    }\n",
       "</style>\n",
       "<table border=\"1\" class=\"dataframe\">\n",
       "  <thead>\n",
       "    <tr style=\"text-align: right;\">\n",
       "      <th></th>\n",
       "      <th>region</th>\n",
       "      <th>vehicle_type</th>\n",
       "      <th>powertrain_type</th>\n",
       "      <th>year</th>\n",
       "      <th>ev_sales</th>\n",
       "      <th>ev_stock</th>\n",
       "    </tr>\n",
       "  </thead>\n",
       "  <tbody>\n",
       "    <tr>\n",
       "      <th>0</th>\n",
       "      <td>Australia</td>\n",
       "      <td>Cars</td>\n",
       "      <td>BEV</td>\n",
       "      <td>2011</td>\n",
       "      <td>49</td>\n",
       "      <td>49</td>\n",
       "    </tr>\n",
       "    <tr>\n",
       "      <th>1</th>\n",
       "      <td>Australia</td>\n",
       "      <td>Cars</td>\n",
       "      <td>BEV</td>\n",
       "      <td>2012</td>\n",
       "      <td>170</td>\n",
       "      <td>220</td>\n",
       "    </tr>\n",
       "    <tr>\n",
       "      <th>2</th>\n",
       "      <td>Australia</td>\n",
       "      <td>Cars</td>\n",
       "      <td>PHEV</td>\n",
       "      <td>2012</td>\n",
       "      <td>80</td>\n",
       "      <td>80</td>\n",
       "    </tr>\n",
       "    <tr>\n",
       "      <th>3</th>\n",
       "      <td>Australia</td>\n",
       "      <td>Cars</td>\n",
       "      <td>BEV</td>\n",
       "      <td>2013</td>\n",
       "      <td>190</td>\n",
       "      <td>410</td>\n",
       "    </tr>\n",
       "    <tr>\n",
       "      <th>4</th>\n",
       "      <td>Australia</td>\n",
       "      <td>Cars</td>\n",
       "      <td>PHEV</td>\n",
       "      <td>2013</td>\n",
       "      <td>100</td>\n",
       "      <td>180</td>\n",
       "    </tr>\n",
       "  </tbody>\n",
       "</table>\n",
       "</div>"
      ],
      "text/plain": [
       "      region vehicle_type powertrain_type  year  ev_sales  ev_stock\n",
       "0  Australia         Cars             BEV  2011        49        49\n",
       "1  Australia         Cars             BEV  2012       170       220\n",
       "2  Australia         Cars            PHEV  2012        80        80\n",
       "3  Australia         Cars             BEV  2013       190       410\n",
       "4  Australia         Cars            PHEV  2013       100       180"
      ]
     },
     "execution_count": 4,
     "metadata": {},
     "output_type": "execute_result"
    }
   ],
   "source": [
    "df_sales_stock.head()"
   ]
  },
  {
   "cell_type": "code",
   "execution_count": 5,
   "id": "98ca470b",
   "metadata": {},
   "outputs": [],
   "source": [
    "df_shares = pd.read_csv(os.path.join(path, 'EV_Shares.csv'), index_col = False)"
   ]
  },
  {
   "cell_type": "code",
   "execution_count": 6,
   "id": "f471c8a9",
   "metadata": {},
   "outputs": [
    {
     "data": {
      "text/html": [
       "<div>\n",
       "<style scoped>\n",
       "    .dataframe tbody tr th:only-of-type {\n",
       "        vertical-align: middle;\n",
       "    }\n",
       "\n",
       "    .dataframe tbody tr th {\n",
       "        vertical-align: top;\n",
       "    }\n",
       "\n",
       "    .dataframe thead th {\n",
       "        text-align: right;\n",
       "    }\n",
       "</style>\n",
       "<table border=\"1\" class=\"dataframe\">\n",
       "  <thead>\n",
       "    <tr style=\"text-align: right;\">\n",
       "      <th></th>\n",
       "      <th>region</th>\n",
       "      <th>vehicle_type</th>\n",
       "      <th>year</th>\n",
       "      <th>ev_sales_share</th>\n",
       "      <th>ev_stock_share</th>\n",
       "    </tr>\n",
       "  </thead>\n",
       "  <tbody>\n",
       "    <tr>\n",
       "      <th>0</th>\n",
       "      <td>Australia</td>\n",
       "      <td>Cars</td>\n",
       "      <td>2011</td>\n",
       "      <td>0.00007</td>\n",
       "      <td>0.00000</td>\n",
       "    </tr>\n",
       "    <tr>\n",
       "      <th>1</th>\n",
       "      <td>Australia</td>\n",
       "      <td>Cars</td>\n",
       "      <td>2012</td>\n",
       "      <td>0.00030</td>\n",
       "      <td>0.00003</td>\n",
       "    </tr>\n",
       "    <tr>\n",
       "      <th>2</th>\n",
       "      <td>Australia</td>\n",
       "      <td>Cars</td>\n",
       "      <td>2013</td>\n",
       "      <td>0.00034</td>\n",
       "      <td>0.00005</td>\n",
       "    </tr>\n",
       "    <tr>\n",
       "      <th>3</th>\n",
       "      <td>Australia</td>\n",
       "      <td>Cars</td>\n",
       "      <td>2014</td>\n",
       "      <td>0.00160</td>\n",
       "      <td>0.00017</td>\n",
       "    </tr>\n",
       "    <tr>\n",
       "      <th>4</th>\n",
       "      <td>Australia</td>\n",
       "      <td>Cars</td>\n",
       "      <td>2015</td>\n",
       "      <td>0.00200</td>\n",
       "      <td>0.00032</td>\n",
       "    </tr>\n",
       "  </tbody>\n",
       "</table>\n",
       "</div>"
      ],
      "text/plain": [
       "      region vehicle_type  year  ev_sales_share  ev_stock_share\n",
       "0  Australia         Cars  2011         0.00007         0.00000\n",
       "1  Australia         Cars  2012         0.00030         0.00003\n",
       "2  Australia         Cars  2013         0.00034         0.00005\n",
       "3  Australia         Cars  2014         0.00160         0.00017\n",
       "4  Australia         Cars  2015         0.00200         0.00032"
      ]
     },
     "execution_count": 6,
     "metadata": {},
     "output_type": "execute_result"
    }
   ],
   "source": [
    "df_shares.head()"
   ]
  },
  {
   "cell_type": "code",
   "execution_count": 7,
   "id": "6e15f37c",
   "metadata": {},
   "outputs": [],
   "source": [
    "df_chargers = pd.read_csv(os.path.join(path, 'EV_Charging_Stations.csv'), index_col = False)"
   ]
  },
  {
   "cell_type": "code",
   "execution_count": 8,
   "id": "75a35c9f",
   "metadata": {},
   "outputs": [
    {
     "data": {
      "text/html": [
       "<div>\n",
       "<style scoped>\n",
       "    .dataframe tbody tr th:only-of-type {\n",
       "        vertical-align: middle;\n",
       "    }\n",
       "\n",
       "    .dataframe tbody tr th {\n",
       "        vertical-align: top;\n",
       "    }\n",
       "\n",
       "    .dataframe thead th {\n",
       "        text-align: right;\n",
       "    }\n",
       "</style>\n",
       "<table border=\"1\" class=\"dataframe\">\n",
       "  <thead>\n",
       "    <tr style=\"text-align: right;\">\n",
       "      <th></th>\n",
       "      <th>region</th>\n",
       "      <th>charger_type</th>\n",
       "      <th>year</th>\n",
       "      <th>charger_count</th>\n",
       "    </tr>\n",
       "  </thead>\n",
       "  <tbody>\n",
       "    <tr>\n",
       "      <th>0</th>\n",
       "      <td>Australia</td>\n",
       "      <td>Publicly Available Slow</td>\n",
       "      <td>2017</td>\n",
       "      <td>440.0</td>\n",
       "    </tr>\n",
       "    <tr>\n",
       "      <th>1</th>\n",
       "      <td>Australia</td>\n",
       "      <td>Publicly Available Fast</td>\n",
       "      <td>2017</td>\n",
       "      <td>40.0</td>\n",
       "    </tr>\n",
       "    <tr>\n",
       "      <th>2</th>\n",
       "      <td>Australia</td>\n",
       "      <td>Publicly Available Slow</td>\n",
       "      <td>2018</td>\n",
       "      <td>670.0</td>\n",
       "    </tr>\n",
       "    <tr>\n",
       "      <th>3</th>\n",
       "      <td>Australia</td>\n",
       "      <td>Publicly Available Fast</td>\n",
       "      <td>2018</td>\n",
       "      <td>61.0</td>\n",
       "    </tr>\n",
       "    <tr>\n",
       "      <th>4</th>\n",
       "      <td>Australia</td>\n",
       "      <td>Publicly Available Slow</td>\n",
       "      <td>2019</td>\n",
       "      <td>1700.0</td>\n",
       "    </tr>\n",
       "  </tbody>\n",
       "</table>\n",
       "</div>"
      ],
      "text/plain": [
       "      region             charger_type  year  charger_count\n",
       "0  Australia  Publicly Available Slow  2017          440.0\n",
       "1  Australia  Publicly Available Fast  2017           40.0\n",
       "2  Australia  Publicly Available Slow  2018          670.0\n",
       "3  Australia  Publicly Available Fast  2018           61.0\n",
       "4  Australia  Publicly Available Slow  2019         1700.0"
      ]
     },
     "execution_count": 8,
     "metadata": {},
     "output_type": "execute_result"
    }
   ],
   "source": [
    "df_chargers.head()"
   ]
  },
  {
   "cell_type": "code",
   "execution_count": 9,
   "id": "54b6d023",
   "metadata": {},
   "outputs": [],
   "source": [
    "df_sales_stock_imputed = pd.read_csv(os.path.join(path, 'EV_Sales_Stock_imputed.csv'), index_col = False)"
   ]
  },
  {
   "cell_type": "code",
   "execution_count": 10,
   "id": "c94395d7",
   "metadata": {},
   "outputs": [
    {
     "data": {
      "text/html": [
       "<div>\n",
       "<style scoped>\n",
       "    .dataframe tbody tr th:only-of-type {\n",
       "        vertical-align: middle;\n",
       "    }\n",
       "\n",
       "    .dataframe tbody tr th {\n",
       "        vertical-align: top;\n",
       "    }\n",
       "\n",
       "    .dataframe thead th {\n",
       "        text-align: right;\n",
       "    }\n",
       "</style>\n",
       "<table border=\"1\" class=\"dataframe\">\n",
       "  <thead>\n",
       "    <tr style=\"text-align: right;\">\n",
       "      <th></th>\n",
       "      <th>region</th>\n",
       "      <th>vehicle_type</th>\n",
       "      <th>powertrain_type</th>\n",
       "      <th>year</th>\n",
       "      <th>ev_sales</th>\n",
       "      <th>ev_stock</th>\n",
       "    </tr>\n",
       "  </thead>\n",
       "  <tbody>\n",
       "    <tr>\n",
       "      <th>0</th>\n",
       "      <td>Australia</td>\n",
       "      <td>Cars</td>\n",
       "      <td>BEV</td>\n",
       "      <td>2010</td>\n",
       "      <td>0</td>\n",
       "      <td>0</td>\n",
       "    </tr>\n",
       "    <tr>\n",
       "      <th>1</th>\n",
       "      <td>Australia</td>\n",
       "      <td>Cars</td>\n",
       "      <td>PHEV</td>\n",
       "      <td>2010</td>\n",
       "      <td>0</td>\n",
       "      <td>0</td>\n",
       "    </tr>\n",
       "    <tr>\n",
       "      <th>2</th>\n",
       "      <td>Australia</td>\n",
       "      <td>Cars</td>\n",
       "      <td>BEV</td>\n",
       "      <td>2011</td>\n",
       "      <td>49</td>\n",
       "      <td>49</td>\n",
       "    </tr>\n",
       "    <tr>\n",
       "      <th>3</th>\n",
       "      <td>Australia</td>\n",
       "      <td>Cars</td>\n",
       "      <td>PHEV</td>\n",
       "      <td>2011</td>\n",
       "      <td>0</td>\n",
       "      <td>0</td>\n",
       "    </tr>\n",
       "    <tr>\n",
       "      <th>4</th>\n",
       "      <td>Australia</td>\n",
       "      <td>Cars</td>\n",
       "      <td>BEV</td>\n",
       "      <td>2012</td>\n",
       "      <td>170</td>\n",
       "      <td>220</td>\n",
       "    </tr>\n",
       "  </tbody>\n",
       "</table>\n",
       "</div>"
      ],
      "text/plain": [
       "      region vehicle_type powertrain_type  year  ev_sales  ev_stock\n",
       "0  Australia         Cars             BEV  2010         0         0\n",
       "1  Australia         Cars            PHEV  2010         0         0\n",
       "2  Australia         Cars             BEV  2011        49        49\n",
       "3  Australia         Cars            PHEV  2011         0         0\n",
       "4  Australia         Cars             BEV  2012       170       220"
      ]
     },
     "execution_count": 10,
     "metadata": {},
     "output_type": "execute_result"
    }
   ],
   "source": [
    "df_sales_stock_imputed.head()"
   ]
  },
  {
   "cell_type": "code",
   "execution_count": 11,
   "id": "20314f39",
   "metadata": {},
   "outputs": [],
   "source": [
    "df_shares_imputed = pd.read_csv(os.path.join(path, 'EV_Shares_imputed.csv'), index_col = False)"
   ]
  },
  {
   "cell_type": "code",
   "execution_count": 12,
   "id": "b329055e",
   "metadata": {},
   "outputs": [
    {
     "data": {
      "text/html": [
       "<div>\n",
       "<style scoped>\n",
       "    .dataframe tbody tr th:only-of-type {\n",
       "        vertical-align: middle;\n",
       "    }\n",
       "\n",
       "    .dataframe tbody tr th {\n",
       "        vertical-align: top;\n",
       "    }\n",
       "\n",
       "    .dataframe thead th {\n",
       "        text-align: right;\n",
       "    }\n",
       "</style>\n",
       "<table border=\"1\" class=\"dataframe\">\n",
       "  <thead>\n",
       "    <tr style=\"text-align: right;\">\n",
       "      <th></th>\n",
       "      <th>region</th>\n",
       "      <th>vehicle_type</th>\n",
       "      <th>year</th>\n",
       "      <th>ev_sales_share</th>\n",
       "      <th>ev_stock_share</th>\n",
       "    </tr>\n",
       "  </thead>\n",
       "  <tbody>\n",
       "    <tr>\n",
       "      <th>0</th>\n",
       "      <td>Australia</td>\n",
       "      <td>Cars</td>\n",
       "      <td>2010</td>\n",
       "      <td>0.00000</td>\n",
       "      <td>0.00000</td>\n",
       "    </tr>\n",
       "    <tr>\n",
       "      <th>1</th>\n",
       "      <td>Australia</td>\n",
       "      <td>Cars</td>\n",
       "      <td>2011</td>\n",
       "      <td>0.00007</td>\n",
       "      <td>0.00000</td>\n",
       "    </tr>\n",
       "    <tr>\n",
       "      <th>2</th>\n",
       "      <td>Australia</td>\n",
       "      <td>Cars</td>\n",
       "      <td>2012</td>\n",
       "      <td>0.00030</td>\n",
       "      <td>0.00003</td>\n",
       "    </tr>\n",
       "    <tr>\n",
       "      <th>3</th>\n",
       "      <td>Australia</td>\n",
       "      <td>Cars</td>\n",
       "      <td>2013</td>\n",
       "      <td>0.00034</td>\n",
       "      <td>0.00005</td>\n",
       "    </tr>\n",
       "    <tr>\n",
       "      <th>4</th>\n",
       "      <td>Australia</td>\n",
       "      <td>Cars</td>\n",
       "      <td>2014</td>\n",
       "      <td>0.00160</td>\n",
       "      <td>0.00017</td>\n",
       "    </tr>\n",
       "  </tbody>\n",
       "</table>\n",
       "</div>"
      ],
      "text/plain": [
       "      region vehicle_type  year  ev_sales_share  ev_stock_share\n",
       "0  Australia         Cars  2010         0.00000         0.00000\n",
       "1  Australia         Cars  2011         0.00007         0.00000\n",
       "2  Australia         Cars  2012         0.00030         0.00003\n",
       "3  Australia         Cars  2013         0.00034         0.00005\n",
       "4  Australia         Cars  2014         0.00160         0.00017"
      ]
     },
     "execution_count": 12,
     "metadata": {},
     "output_type": "execute_result"
    }
   ],
   "source": [
    "df_shares_imputed.head()"
   ]
  },
  {
   "cell_type": "code",
   "execution_count": 13,
   "id": "30af0e5e",
   "metadata": {},
   "outputs": [],
   "source": [
    "df_chargers_imputed = pd.read_csv(os.path.join(path, 'EV_Charging_Stations_imputed.csv'), index_col = False)"
   ]
  },
  {
   "cell_type": "code",
   "execution_count": 14,
   "id": "014ba62a",
   "metadata": {},
   "outputs": [
    {
     "data": {
      "text/html": [
       "<div>\n",
       "<style scoped>\n",
       "    .dataframe tbody tr th:only-of-type {\n",
       "        vertical-align: middle;\n",
       "    }\n",
       "\n",
       "    .dataframe tbody tr th {\n",
       "        vertical-align: top;\n",
       "    }\n",
       "\n",
       "    .dataframe thead th {\n",
       "        text-align: right;\n",
       "    }\n",
       "</style>\n",
       "<table border=\"1\" class=\"dataframe\">\n",
       "  <thead>\n",
       "    <tr style=\"text-align: right;\">\n",
       "      <th></th>\n",
       "      <th>region</th>\n",
       "      <th>charger_type</th>\n",
       "      <th>year</th>\n",
       "      <th>charger_count</th>\n",
       "    </tr>\n",
       "  </thead>\n",
       "  <tbody>\n",
       "    <tr>\n",
       "      <th>0</th>\n",
       "      <td>Australia</td>\n",
       "      <td>Publicly Available Slow</td>\n",
       "      <td>2010</td>\n",
       "      <td>0.0</td>\n",
       "    </tr>\n",
       "    <tr>\n",
       "      <th>1</th>\n",
       "      <td>Australia</td>\n",
       "      <td>Publicly Available Fast</td>\n",
       "      <td>2010</td>\n",
       "      <td>0.0</td>\n",
       "    </tr>\n",
       "    <tr>\n",
       "      <th>2</th>\n",
       "      <td>Australia</td>\n",
       "      <td>Publicly Available Slow</td>\n",
       "      <td>2011</td>\n",
       "      <td>0.0</td>\n",
       "    </tr>\n",
       "    <tr>\n",
       "      <th>3</th>\n",
       "      <td>Australia</td>\n",
       "      <td>Publicly Available Fast</td>\n",
       "      <td>2011</td>\n",
       "      <td>0.0</td>\n",
       "    </tr>\n",
       "    <tr>\n",
       "      <th>4</th>\n",
       "      <td>Australia</td>\n",
       "      <td>Publicly Available Slow</td>\n",
       "      <td>2012</td>\n",
       "      <td>0.0</td>\n",
       "    </tr>\n",
       "  </tbody>\n",
       "</table>\n",
       "</div>"
      ],
      "text/plain": [
       "      region             charger_type  year  charger_count\n",
       "0  Australia  Publicly Available Slow  2010            0.0\n",
       "1  Australia  Publicly Available Fast  2010            0.0\n",
       "2  Australia  Publicly Available Slow  2011            0.0\n",
       "3  Australia  Publicly Available Fast  2011            0.0\n",
       "4  Australia  Publicly Available Slow  2012            0.0"
      ]
     },
     "execution_count": 14,
     "metadata": {},
     "output_type": "execute_result"
    }
   ],
   "source": [
    "df_chargers_imputed.head()"
   ]
  },
  {
   "cell_type": "markdown",
   "id": "772b7250",
   "metadata": {},
   "source": [
    "First step for cleaning the data is to confirm there is no missing or null values in the data set."
   ]
  },
  {
   "cell_type": "markdown",
   "id": "10d4f47a",
   "metadata": {},
   "source": [
    "While examining and reformatting data in Excel it was clear there were no null values in the data set. Based on what was found during reformatting the data, rather than have a row with no reported data for a certain data point, the IEA just did not report anything for that time period. As explained above, in Excel a value of zero was imputed for any data point that was not reported for 2010-2022 (in the data sets with \"imputed\" in the dataframe name). Just to confirm that this was successful in Excel a check for null values will be run for all columns in the dataset."
   ]
  },
  {
   "cell_type": "code",
   "execution_count": 15,
   "id": "69c51940",
   "metadata": {},
   "outputs": [
    {
     "data": {
      "text/plain": [
       "0"
      ]
     },
     "execution_count": 15,
     "metadata": {},
     "output_type": "execute_result"
    }
   ],
   "source": [
    "df_sales_stock_imputed['region'].isnull().sum()"
   ]
  },
  {
   "cell_type": "code",
   "execution_count": 16,
   "id": "5fe7a2f4",
   "metadata": {},
   "outputs": [
    {
     "data": {
      "text/plain": [
       "0"
      ]
     },
     "execution_count": 16,
     "metadata": {},
     "output_type": "execute_result"
    }
   ],
   "source": [
    "df_sales_stock['region'].isnull().sum()"
   ]
  },
  {
   "cell_type": "code",
   "execution_count": 17,
   "id": "55d6aff9",
   "metadata": {},
   "outputs": [
    {
     "data": {
      "text/plain": [
       "0"
      ]
     },
     "execution_count": 17,
     "metadata": {},
     "output_type": "execute_result"
    }
   ],
   "source": [
    "df_sales_stock_imputed['vehicle_type'].isnull().sum()"
   ]
  },
  {
   "cell_type": "code",
   "execution_count": 18,
   "id": "f3c03927",
   "metadata": {},
   "outputs": [
    {
     "data": {
      "text/plain": [
       "0"
      ]
     },
     "execution_count": 18,
     "metadata": {},
     "output_type": "execute_result"
    }
   ],
   "source": [
    "df_sales_stock['vehicle_type'].isnull().sum()"
   ]
  },
  {
   "cell_type": "code",
   "execution_count": 19,
   "id": "574711ca",
   "metadata": {},
   "outputs": [
    {
     "data": {
      "text/plain": [
       "0"
      ]
     },
     "execution_count": 19,
     "metadata": {},
     "output_type": "execute_result"
    }
   ],
   "source": [
    "df_sales_stock_imputed['powertrain_type'].isnull().sum()"
   ]
  },
  {
   "cell_type": "code",
   "execution_count": 20,
   "id": "fa9c6839",
   "metadata": {},
   "outputs": [
    {
     "data": {
      "text/plain": [
       "0"
      ]
     },
     "execution_count": 20,
     "metadata": {},
     "output_type": "execute_result"
    }
   ],
   "source": [
    "df_sales_stock['powertrain_type'].isnull().sum()"
   ]
  },
  {
   "cell_type": "code",
   "execution_count": 21,
   "id": "feb9ecde",
   "metadata": {},
   "outputs": [
    {
     "data": {
      "text/plain": [
       "0"
      ]
     },
     "execution_count": 21,
     "metadata": {},
     "output_type": "execute_result"
    }
   ],
   "source": [
    "df_sales_stock_imputed['year'].isnull().sum()"
   ]
  },
  {
   "cell_type": "code",
   "execution_count": 22,
   "id": "115c044a",
   "metadata": {},
   "outputs": [
    {
     "data": {
      "text/plain": [
       "0"
      ]
     },
     "execution_count": 22,
     "metadata": {},
     "output_type": "execute_result"
    }
   ],
   "source": [
    "df_sales_stock['year'].isnull().sum()"
   ]
  },
  {
   "cell_type": "code",
   "execution_count": 23,
   "id": "90897e9c",
   "metadata": {},
   "outputs": [
    {
     "data": {
      "text/plain": [
       "0"
      ]
     },
     "execution_count": 23,
     "metadata": {},
     "output_type": "execute_result"
    }
   ],
   "source": [
    "df_sales_stock_imputed['ev_sales'].isnull().sum()"
   ]
  },
  {
   "cell_type": "code",
   "execution_count": 24,
   "id": "35bfe8e4",
   "metadata": {},
   "outputs": [
    {
     "data": {
      "text/plain": [
       "0"
      ]
     },
     "execution_count": 24,
     "metadata": {},
     "output_type": "execute_result"
    }
   ],
   "source": [
    "df_sales_stock['ev_sales'].isnull().sum()"
   ]
  },
  {
   "cell_type": "code",
   "execution_count": 25,
   "id": "b0b6a1cd",
   "metadata": {},
   "outputs": [
    {
     "data": {
      "text/plain": [
       "0"
      ]
     },
     "execution_count": 25,
     "metadata": {},
     "output_type": "execute_result"
    }
   ],
   "source": [
    "df_sales_stock_imputed['ev_stock'].isnull().sum()"
   ]
  },
  {
   "cell_type": "code",
   "execution_count": 26,
   "id": "ee8581e1",
   "metadata": {},
   "outputs": [
    {
     "data": {
      "text/plain": [
       "0"
      ]
     },
     "execution_count": 26,
     "metadata": {},
     "output_type": "execute_result"
    }
   ],
   "source": [
    "df_sales_stock['ev_stock'].isnull().sum()"
   ]
  },
  {
   "cell_type": "code",
   "execution_count": 27,
   "id": "31d66e23",
   "metadata": {},
   "outputs": [
    {
     "data": {
      "text/plain": [
       "0"
      ]
     },
     "execution_count": 27,
     "metadata": {},
     "output_type": "execute_result"
    }
   ],
   "source": [
    "df_shares_imputed['region'].isnull().sum()"
   ]
  },
  {
   "cell_type": "code",
   "execution_count": 28,
   "id": "a4cc829f",
   "metadata": {},
   "outputs": [
    {
     "data": {
      "text/plain": [
       "0"
      ]
     },
     "execution_count": 28,
     "metadata": {},
     "output_type": "execute_result"
    }
   ],
   "source": [
    "df_shares['region'].isnull().sum()"
   ]
  },
  {
   "cell_type": "code",
   "execution_count": 29,
   "id": "f7f35d15",
   "metadata": {},
   "outputs": [
    {
     "data": {
      "text/plain": [
       "0"
      ]
     },
     "execution_count": 29,
     "metadata": {},
     "output_type": "execute_result"
    }
   ],
   "source": [
    "df_shares_imputed['vehicle_type'].isnull().sum()"
   ]
  },
  {
   "cell_type": "code",
   "execution_count": 30,
   "id": "6b8da471",
   "metadata": {},
   "outputs": [
    {
     "data": {
      "text/plain": [
       "0"
      ]
     },
     "execution_count": 30,
     "metadata": {},
     "output_type": "execute_result"
    }
   ],
   "source": [
    "df_shares['vehicle_type'].isnull().sum()"
   ]
  },
  {
   "cell_type": "code",
   "execution_count": 31,
   "id": "3b493716",
   "metadata": {},
   "outputs": [
    {
     "data": {
      "text/plain": [
       "0"
      ]
     },
     "execution_count": 31,
     "metadata": {},
     "output_type": "execute_result"
    }
   ],
   "source": [
    "df_shares_imputed['year'].isnull().sum()"
   ]
  },
  {
   "cell_type": "code",
   "execution_count": 32,
   "id": "528dedd1",
   "metadata": {},
   "outputs": [
    {
     "data": {
      "text/plain": [
       "0"
      ]
     },
     "execution_count": 32,
     "metadata": {},
     "output_type": "execute_result"
    }
   ],
   "source": [
    "df_shares['year'].isnull().sum()"
   ]
  },
  {
   "cell_type": "code",
   "execution_count": 33,
   "id": "c4cb4555",
   "metadata": {},
   "outputs": [
    {
     "data": {
      "text/plain": [
       "0"
      ]
     },
     "execution_count": 33,
     "metadata": {},
     "output_type": "execute_result"
    }
   ],
   "source": [
    "df_shares_imputed['ev_sales_share'].isnull().sum()"
   ]
  },
  {
   "cell_type": "code",
   "execution_count": 34,
   "id": "8109b96b",
   "metadata": {},
   "outputs": [
    {
     "data": {
      "text/plain": [
       "0"
      ]
     },
     "execution_count": 34,
     "metadata": {},
     "output_type": "execute_result"
    }
   ],
   "source": [
    "df_shares['ev_sales_share'].isnull().sum()"
   ]
  },
  {
   "cell_type": "code",
   "execution_count": 35,
   "id": "e3c93778",
   "metadata": {},
   "outputs": [
    {
     "data": {
      "text/plain": [
       "0"
      ]
     },
     "execution_count": 35,
     "metadata": {},
     "output_type": "execute_result"
    }
   ],
   "source": [
    "df_shares_imputed['ev_stock_share'].isnull().sum()"
   ]
  },
  {
   "cell_type": "code",
   "execution_count": 36,
   "id": "1e677d8d",
   "metadata": {},
   "outputs": [
    {
     "data": {
      "text/plain": [
       "0"
      ]
     },
     "execution_count": 36,
     "metadata": {},
     "output_type": "execute_result"
    }
   ],
   "source": [
    "df_shares['ev_stock_share'].isnull().sum()"
   ]
  },
  {
   "cell_type": "code",
   "execution_count": 37,
   "id": "1e973d20",
   "metadata": {},
   "outputs": [
    {
     "data": {
      "text/plain": [
       "0"
      ]
     },
     "execution_count": 37,
     "metadata": {},
     "output_type": "execute_result"
    }
   ],
   "source": [
    "df_chargers_imputed['region'].isnull().sum()"
   ]
  },
  {
   "cell_type": "code",
   "execution_count": 38,
   "id": "036c894d",
   "metadata": {},
   "outputs": [
    {
     "data": {
      "text/plain": [
       "0"
      ]
     },
     "execution_count": 38,
     "metadata": {},
     "output_type": "execute_result"
    }
   ],
   "source": [
    "df_chargers['region'].isnull().sum()"
   ]
  },
  {
   "cell_type": "code",
   "execution_count": 39,
   "id": "ad634f3d",
   "metadata": {},
   "outputs": [
    {
     "data": {
      "text/plain": [
       "0"
      ]
     },
     "execution_count": 39,
     "metadata": {},
     "output_type": "execute_result"
    }
   ],
   "source": [
    "df_chargers_imputed['charger_type'].isnull().sum()"
   ]
  },
  {
   "cell_type": "code",
   "execution_count": 40,
   "id": "646e3934",
   "metadata": {},
   "outputs": [
    {
     "data": {
      "text/plain": [
       "0"
      ]
     },
     "execution_count": 40,
     "metadata": {},
     "output_type": "execute_result"
    }
   ],
   "source": [
    "df_chargers['charger_type'].isnull().sum()"
   ]
  },
  {
   "cell_type": "code",
   "execution_count": 41,
   "id": "b6632a49",
   "metadata": {},
   "outputs": [
    {
     "data": {
      "text/plain": [
       "0"
      ]
     },
     "execution_count": 41,
     "metadata": {},
     "output_type": "execute_result"
    }
   ],
   "source": [
    "df_chargers_imputed['year'].isnull().sum()"
   ]
  },
  {
   "cell_type": "code",
   "execution_count": 42,
   "id": "139f797d",
   "metadata": {},
   "outputs": [
    {
     "data": {
      "text/plain": [
       "0"
      ]
     },
     "execution_count": 42,
     "metadata": {},
     "output_type": "execute_result"
    }
   ],
   "source": [
    "df_chargers['year'].isnull().sum()"
   ]
  },
  {
   "cell_type": "code",
   "execution_count": 43,
   "id": "bba0b4cf",
   "metadata": {},
   "outputs": [
    {
     "data": {
      "text/plain": [
       "0"
      ]
     },
     "execution_count": 43,
     "metadata": {},
     "output_type": "execute_result"
    }
   ],
   "source": [
    "df_chargers_imputed['charger_count'].isnull().sum()"
   ]
  },
  {
   "cell_type": "code",
   "execution_count": 44,
   "id": "82643f6d",
   "metadata": {},
   "outputs": [
    {
     "data": {
      "text/plain": [
       "0"
      ]
     },
     "execution_count": 44,
     "metadata": {},
     "output_type": "execute_result"
    }
   ],
   "source": [
    "df_chargers['charger_count'].isnull().sum()"
   ]
  },
  {
   "cell_type": "markdown",
   "id": "5d6cd510",
   "metadata": {},
   "source": [
    "Second step to confirm data is ready for analysis will be to perform a value_count on each variable and confirm the results align with expectations."
   ]
  },
  {
   "cell_type": "code",
   "execution_count": 45,
   "id": "160bbdd7",
   "metadata": {},
   "outputs": [
    {
     "data": {
      "text/plain": [
       "Australia            130\n",
       "Austria              130\n",
       "Mexico               130\n",
       "Netherlands          130\n",
       "New Zealand          130\n",
       "Norway               130\n",
       "Other Europe         130\n",
       "Poland               130\n",
       "Portugal             130\n",
       "Rest of the world    130\n",
       "South Africa         130\n",
       "Spain                130\n",
       "Sweden               130\n",
       "Switzerland          130\n",
       "Turkiye              130\n",
       "United Kingdom       130\n",
       "USA                  130\n",
       "Korea                130\n",
       "Japan                130\n",
       "Italy                130\n",
       "EU27                 130\n",
       "Belgium              130\n",
       "Brazil               130\n",
       "Canada               130\n",
       "Chile                130\n",
       "China                130\n",
       "Denmark              130\n",
       "Europe               130\n",
       "Israel               130\n",
       "Finland              130\n",
       "France               130\n",
       "Germany              130\n",
       "Greece               130\n",
       "Iceland              130\n",
       "India                130\n",
       "World                130\n",
       "Name: region, dtype: int64"
      ]
     },
     "execution_count": 45,
     "metadata": {},
     "output_type": "execute_result"
    }
   ],
   "source": [
    "df_sales_stock_imputed['region'].value_counts()"
   ]
  },
  {
   "cell_type": "code",
   "execution_count": 46,
   "id": "1a92021b",
   "metadata": {},
   "outputs": [
    {
     "data": {
      "text/plain": [
       "World                123\n",
       "EU27                 119\n",
       "Europe               119\n",
       "China                118\n",
       "France               114\n",
       "Belgium              107\n",
       "United Kingdom       107\n",
       "Denmark              105\n",
       "Netherlands           98\n",
       "Other Europe          95\n",
       "Sweden                94\n",
       "Germany               92\n",
       "Norway                90\n",
       "Poland                89\n",
       "Austria               89\n",
       "Spain                 87\n",
       "Iceland               87\n",
       "Canada                85\n",
       "Italy                 83\n",
       "Switzerland           81\n",
       "Japan                 79\n",
       "New Zealand           76\n",
       "Finland               75\n",
       "Portugal              71\n",
       "Rest of the world     70\n",
       "Korea                 66\n",
       "Brazil                65\n",
       "Israel                63\n",
       "USA                   50\n",
       "India                 49\n",
       "Greece                49\n",
       "Australia             46\n",
       "Mexico                44\n",
       "Chile                 42\n",
       "Turkiye               42\n",
       "South Africa          38\n",
       "Name: region, dtype: int64"
      ]
     },
     "execution_count": 46,
     "metadata": {},
     "output_type": "execute_result"
    }
   ],
   "source": [
    "df_sales_stock['region'].value_counts()"
   ]
  },
  {
   "cell_type": "markdown",
   "id": "4ea41eee",
   "metadata": {},
   "source": [
    "Value count on region for imputed data for 2010-2022, the count for each region is even. 13 years x 2 powertrain types x 5 vehicle types (cars, buses, trucks, vans, total) = 130. \n",
    "For the non-imputed data set it makes sense that there are no counts over 130 (would be impossible) and that the World (total) reports the most data points since it is an aggregation of all other data points. \n",
    "These results do not indicate any issues with this column in either data set. "
   ]
  },
  {
   "cell_type": "code",
   "execution_count": 47,
   "id": "1e712e17",
   "metadata": {},
   "outputs": [
    {
     "data": {
      "text/plain": [
       "Cars      936\n",
       "Buses     936\n",
       "Vans      936\n",
       "Trucks    936\n",
       "Total     936\n",
       "Name: vehicle_type, dtype: int64"
      ]
     },
     "execution_count": 47,
     "metadata": {},
     "output_type": "execute_result"
    }
   ],
   "source": [
    "df_sales_stock_imputed['vehicle_type'].value_counts()"
   ]
  },
  {
   "cell_type": "code",
   "execution_count": 48,
   "id": "a6288820",
   "metadata": {},
   "outputs": [
    {
     "data": {
      "text/plain": [
       "Total     856\n",
       "Cars      851\n",
       "Vans      487\n",
       "Buses     438\n",
       "Trucks    275\n",
       "Name: vehicle_type, dtype: int64"
      ]
     },
     "execution_count": 48,
     "metadata": {},
     "output_type": "execute_result"
    }
   ],
   "source": [
    "df_sales_stock['vehicle_type'].value_counts()"
   ]
  },
  {
   "cell_type": "markdown",
   "id": "25a0d8a7",
   "metadata": {},
   "source": [
    "The imputed vehicle type data has an even amount of each type. 36 countries x 2 powertrain types X 13 years = 936. For the non-imputed vehicle type data the results again make sense as there is no value higher than 936, and the total summation for all vehicles has the most values. "
   ]
  },
  {
   "cell_type": "code",
   "execution_count": 49,
   "id": "2b4bebca",
   "metadata": {},
   "outputs": [
    {
     "data": {
      "text/plain": [
       "BEV     2340\n",
       "PHEV    2340\n",
       "Name: powertrain_type, dtype: int64"
      ]
     },
     "execution_count": 49,
     "metadata": {},
     "output_type": "execute_result"
    }
   ],
   "source": [
    "df_sales_stock_imputed['powertrain_type'].value_counts()"
   ]
  },
  {
   "cell_type": "code",
   "execution_count": 50,
   "id": "87d57614",
   "metadata": {},
   "outputs": [
    {
     "data": {
      "text/plain": [
       "BEV     1768\n",
       "PHEV    1139\n",
       "Name: powertrain_type, dtype: int64"
      ]
     },
     "execution_count": 50,
     "metadata": {},
     "output_type": "execute_result"
    }
   ],
   "source": [
    "df_sales_stock['powertrain_type'].value_counts()"
   ]
  },
  {
   "cell_type": "markdown",
   "id": "9c3bd61a",
   "metadata": {},
   "source": [
    "Imputed powertrain type data has even number which make sense, 36 regions X 5 vehicle types X 13 years = 2340. The non-imputed powertain type data also makes sense as there are no values above 2340. There is much more reported data on battery electric vehicles than plug-in hybrids."
   ]
  },
  {
   "cell_type": "code",
   "execution_count": 51,
   "id": "19f8417d",
   "metadata": {},
   "outputs": [
    {
     "data": {
      "text/plain": [
       "2010    360\n",
       "2011    360\n",
       "2012    360\n",
       "2013    360\n",
       "2014    360\n",
       "2015    360\n",
       "2016    360\n",
       "2017    360\n",
       "2018    360\n",
       "2019    360\n",
       "2020    360\n",
       "2021    360\n",
       "2022    360\n",
       "Name: year, dtype: int64"
      ]
     },
     "execution_count": 51,
     "metadata": {},
     "output_type": "execute_result"
    }
   ],
   "source": [
    "df_sales_stock_imputed['year'].value_counts()"
   ]
  },
  {
   "cell_type": "code",
   "execution_count": 52,
   "id": "f487e8ae",
   "metadata": {},
   "outputs": [
    {
     "data": {
      "text/plain": [
       "2022    284\n",
       "2021    281\n",
       "2020    277\n",
       "2019    267\n",
       "2018    252\n",
       "2017    247\n",
       "2016    233\n",
       "2015    218\n",
       "2014    199\n",
       "2013    193\n",
       "2012    182\n",
       "2011    155\n",
       "2010    119\n",
       "Name: year, dtype: int64"
      ]
     },
     "execution_count": 52,
     "metadata": {},
     "output_type": "execute_result"
    }
   ],
   "source": [
    "df_sales_stock['year'].value_counts()"
   ]
  },
  {
   "cell_type": "markdown",
   "id": "e0adb012",
   "metadata": {},
   "source": [
    "Imputed year data in the sales/stock table even again, 36 regions x 5 vehicle types X 2 powertrain types = 360. Non-imputed year data also makes sense as there are no values over 360, and the values increase each year. This makes logical sense as more and more sales and stock data was reported each year of the data set."
   ]
  },
  {
   "cell_type": "code",
   "execution_count": 53,
   "id": "ff4ee1db",
   "metadata": {},
   "outputs": [
    {
     "data": {
      "text/plain": [
       "Australia            52\n",
       "Austria              52\n",
       "Mexico               52\n",
       "Netherlands          52\n",
       "New Zealand          52\n",
       "Norway               52\n",
       "Other Europe         52\n",
       "Poland               52\n",
       "Portugal             52\n",
       "Rest of the world    52\n",
       "South Africa         52\n",
       "Spain                52\n",
       "Sweden               52\n",
       "Switzerland          52\n",
       "Turkiye              52\n",
       "United Kingdom       52\n",
       "USA                  52\n",
       "Korea                52\n",
       "Japan                52\n",
       "Italy                52\n",
       "EU27                 52\n",
       "Belgium              52\n",
       "Brazil               52\n",
       "Canada               52\n",
       "Chile                52\n",
       "China                52\n",
       "Denmark              52\n",
       "Europe               52\n",
       "Israel               52\n",
       "Finland              52\n",
       "France               52\n",
       "Germany              52\n",
       "Greece               52\n",
       "Iceland              52\n",
       "India                52\n",
       "World                52\n",
       "Name: region, dtype: int64"
      ]
     },
     "execution_count": 53,
     "metadata": {},
     "output_type": "execute_result"
    }
   ],
   "source": [
    "df_shares_imputed['region'].value_counts()"
   ]
  },
  {
   "cell_type": "code",
   "execution_count": 54,
   "id": "f8ed33ed",
   "metadata": {},
   "outputs": [
    {
     "data": {
      "text/plain": [
       "World                52\n",
       "Belgium              52\n",
       "United Kingdom       52\n",
       "China                52\n",
       "EU27                 52\n",
       "Europe               52\n",
       "France               52\n",
       "Netherlands          52\n",
       "Austria              52\n",
       "Denmark              51\n",
       "Iceland              49\n",
       "Other Europe         48\n",
       "Italy                42\n",
       "Sweden               42\n",
       "Poland               42\n",
       "Japan                42\n",
       "Spain                40\n",
       "Canada               40\n",
       "Norway               39\n",
       "Germany              38\n",
       "Korea                37\n",
       "Switzerland          35\n",
       "New Zealand          34\n",
       "Brazil               32\n",
       "Portugal             31\n",
       "Rest of the world    31\n",
       "Finland              30\n",
       "India                28\n",
       "Israel               26\n",
       "Greece               20\n",
       "Mexico               16\n",
       "USA                  13\n",
       "Chile                12\n",
       "Australia            12\n",
       "Turkiye              11\n",
       "South Africa         10\n",
       "Name: region, dtype: int64"
      ]
     },
     "execution_count": 54,
     "metadata": {},
     "output_type": "execute_result"
    }
   ],
   "source": [
    "df_shares['region'].value_counts()"
   ]
  },
  {
   "cell_type": "markdown",
   "id": "c512e7a4",
   "metadata": {},
   "source": [
    "Imputed region data in the shares table is all even, 4 vehicle types x 13 years = 52 (no powertrain type or \"Total\" vehicle type in Shares data). Non-imputed region data makes sense as there is no value over 52 and World and EU27 both have the max amount which makes sense as World is a total of all counties, and EU27 is a total of European countries, some of which have the max amount of values at 52. "
   ]
  },
  {
   "cell_type": "code",
   "execution_count": 55,
   "id": "db128995",
   "metadata": {},
   "outputs": [
    {
     "data": {
      "text/plain": [
       "Cars      468\n",
       "Buses     468\n",
       "Vans      468\n",
       "Trucks    468\n",
       "Name: vehicle_type, dtype: int64"
      ]
     },
     "execution_count": 55,
     "metadata": {},
     "output_type": "execute_result"
    }
   ],
   "source": [
    "df_shares_imputed['vehicle_type'].value_counts()"
   ]
  },
  {
   "cell_type": "code",
   "execution_count": 56,
   "id": "c1c2f2d6",
   "metadata": {},
   "outputs": [
    {
     "data": {
      "text/plain": [
       "Cars      451\n",
       "Vans      323\n",
       "Buses     308\n",
       "Trucks    237\n",
       "Name: vehicle_type, dtype: int64"
      ]
     },
     "execution_count": 56,
     "metadata": {},
     "output_type": "execute_result"
    }
   ],
   "source": [
    "df_shares['vehicle_type'].value_counts()"
   ]
  },
  {
   "cell_type": "markdown",
   "id": "f945a475",
   "metadata": {},
   "source": [
    "Imputed vehicle type data from shares table makes sense as we have even count for each, and 36 regions x 13 years = 468. Non-imputed vehicle type data makes sense as there is no value above 468. Cars have the most reported data points in the non-imputed data. "
   ]
  },
  {
   "cell_type": "code",
   "execution_count": 57,
   "id": "36a8c993",
   "metadata": {},
   "outputs": [
    {
     "data": {
      "text/plain": [
       "2010    144\n",
       "2011    144\n",
       "2012    144\n",
       "2013    144\n",
       "2014    144\n",
       "2015    144\n",
       "2016    144\n",
       "2017    144\n",
       "2018    144\n",
       "2019    144\n",
       "2020    144\n",
       "2021    144\n",
       "2022    144\n",
       "Name: year, dtype: int64"
      ]
     },
     "execution_count": 57,
     "metadata": {},
     "output_type": "execute_result"
    }
   ],
   "source": [
    "df_shares_imputed['year'].value_counts()"
   ]
  },
  {
   "cell_type": "code",
   "execution_count": 58,
   "id": "5e89d0b3",
   "metadata": {},
   "outputs": [
    {
     "data": {
      "text/plain": [
       "2022    124\n",
       "2020    123\n",
       "2021    123\n",
       "2019    119\n",
       "2018    114\n",
       "2017    109\n",
       "2016    103\n",
       "2015     95\n",
       "2014     89\n",
       "2013     88\n",
       "2012     85\n",
       "2011     80\n",
       "2010     67\n",
       "Name: year, dtype: int64"
      ]
     },
     "execution_count": 58,
     "metadata": {},
     "output_type": "execute_result"
    }
   ],
   "source": [
    "df_shares['year'].value_counts()"
   ]
  },
  {
   "cell_type": "markdown",
   "id": "5e8cbd2d",
   "metadata": {},
   "source": [
    "Imputed data for year in the shares data set makes sense. The values are all even, with 36 regions X 4 vehicle types = 144. Non-imputed year data also makes sense as there is no value above 144 and the amount of reported data increased in each year in order from 2010 to 2022 (both 2020 and 2021 had 123 reported values). "
   ]
  },
  {
   "cell_type": "code",
   "execution_count": 59,
   "id": "25c14a27",
   "metadata": {},
   "outputs": [
    {
     "data": {
      "text/plain": [
       "Australia         26\n",
       "South Africa      26\n",
       "Mexico            26\n",
       "Netherlands       26\n",
       "New Zealand       26\n",
       "Norway            26\n",
       "Poland            26\n",
       "Portugal          26\n",
       "Spain             26\n",
       "Austria           26\n",
       "Sweden            26\n",
       "Switzerland       26\n",
       "Thailand          26\n",
       "Turkiye           26\n",
       "United Kingdom    26\n",
       "USA               26\n",
       "Korea             26\n",
       "Japan             26\n",
       "Italy             26\n",
       "Israel            26\n",
       "Indonesia         26\n",
       "India             26\n",
       "Iceland           26\n",
       "Greece            26\n",
       "Germany           26\n",
       "France            26\n",
       "Finland           26\n",
       "Denmark           26\n",
       "China             26\n",
       "Chile             26\n",
       "Canada            26\n",
       "Brazil            26\n",
       "Belgium           26\n",
       "Total             26\n",
       "Name: region, dtype: int64"
      ]
     },
     "execution_count": 59,
     "metadata": {},
     "output_type": "execute_result"
    }
   ],
   "source": [
    "df_chargers_imputed['region'].value_counts()"
   ]
  },
  {
   "cell_type": "code",
   "execution_count": 60,
   "id": "d5a7b720",
   "metadata": {},
   "outputs": [
    {
     "data": {
      "text/plain": [
       "Total             26\n",
       "Norway            25\n",
       "Portugal          24\n",
       "Chile             24\n",
       "Netherlands       24\n",
       "Austria           24\n",
       "United Kingdom    23\n",
       "Germany           22\n",
       "Switzerland       22\n",
       "Italy             22\n",
       "Japan             22\n",
       "Denmark           22\n",
       "France            22\n",
       "Canada            22\n",
       "USA               21\n",
       "Spain             21\n",
       "Belgium           20\n",
       "Finland           20\n",
       "Greece            19\n",
       "Poland            18\n",
       "China             18\n",
       "Iceland           17\n",
       "Turkiye           17\n",
       "Sweden            16\n",
       "Mexico            15\n",
       "Korea             14\n",
       "Israel            14\n",
       "India             13\n",
       "South Africa      12\n",
       "Thailand          12\n",
       "Australia         12\n",
       "New Zealand       11\n",
       "Brazil            10\n",
       "Indonesia          6\n",
       "Name: region, dtype: int64"
      ]
     },
     "execution_count": 60,
     "metadata": {},
     "output_type": "execute_result"
    }
   ],
   "source": [
    "df_chargers['region'].value_counts()"
   ]
  },
  {
   "cell_type": "markdown",
   "id": "bec2a37e",
   "metadata": {},
   "source": [
    "Region for the chargers data makes sense, as all values are even and 13 years x 2 charger types = 26. Non-imputed region data makes sense as there are no values above 26 and the region with the most reported values is the total which is a summation of all the individual regions. "
   ]
  },
  {
   "cell_type": "code",
   "execution_count": 61,
   "id": "bc665be7",
   "metadata": {},
   "outputs": [
    {
     "data": {
      "text/plain": [
       "Publicly Available Slow    442\n",
       "Publicly Available Fast    442\n",
       "Name: charger_type, dtype: int64"
      ]
     },
     "execution_count": 61,
     "metadata": {},
     "output_type": "execute_result"
    }
   ],
   "source": [
    "df_chargers_imputed['charger_type'].value_counts()"
   ]
  },
  {
   "cell_type": "code",
   "execution_count": 62,
   "id": "7561328a",
   "metadata": {},
   "outputs": [
    {
     "data": {
      "text/plain": [
       "Publicly Available Slow    317\n",
       "Publicly Available Fast    313\n",
       "Name: charger_type, dtype: int64"
      ]
     },
     "execution_count": 62,
     "metadata": {},
     "output_type": "execute_result"
    }
   ],
   "source": [
    "df_chargers['charger_type'].value_counts()"
   ]
  },
  {
   "cell_type": "markdown",
   "id": "c996a0be",
   "metadata": {},
   "source": [
    "Imputed data for charger types makes sense, 34 regions X 13 years = 442. Non-imputed charger type data makes sense as there is no value about 442. There is slightly more reported data on slow chargings stations than fast charging stations. "
   ]
  },
  {
   "cell_type": "code",
   "execution_count": 63,
   "id": "d29a37ed",
   "metadata": {},
   "outputs": [
    {
     "data": {
      "text/plain": [
       "2010    68\n",
       "2011    68\n",
       "2012    68\n",
       "2013    68\n",
       "2014    68\n",
       "2015    68\n",
       "2016    68\n",
       "2017    68\n",
       "2018    68\n",
       "2019    68\n",
       "2020    68\n",
       "2021    68\n",
       "2022    68\n",
       "Name: year, dtype: int64"
      ]
     },
     "execution_count": 63,
     "metadata": {},
     "output_type": "execute_result"
    }
   ],
   "source": [
    "df_chargers_imputed['year'].value_counts()"
   ]
  },
  {
   "cell_type": "code",
   "execution_count": 64,
   "id": "ee3c5262",
   "metadata": {},
   "outputs": [
    {
     "data": {
      "text/plain": [
       "2022    68\n",
       "2020    67\n",
       "2021    67\n",
       "2018    66\n",
       "2019    66\n",
       "2017    63\n",
       "2016    54\n",
       "2015    49\n",
       "2014    44\n",
       "2013    37\n",
       "2012    29\n",
       "2011    14\n",
       "2010     6\n",
       "Name: year, dtype: int64"
      ]
     },
     "execution_count": 64,
     "metadata": {},
     "output_type": "execute_result"
    }
   ],
   "source": [
    "df_chargers['year'].value_counts()"
   ]
  },
  {
   "cell_type": "markdown",
   "id": "0e2e5d13",
   "metadata": {},
   "source": [
    "Imputed data for year in the charging stations data makes sense, 34 regions x 2 charger types = 68. Non-imputed year data makes sense as there are no values above 68 and the amount of reported values increased each year from 2010-2022 (2018-2019 and 2020-2021 both had the same amount of data points reported). "
   ]
  },
  {
   "cell_type": "markdown",
   "id": "9a23a35a",
   "metadata": {},
   "source": [
    "Based on the value counts performed on all of the categorical variables there are no issues with the data sets so far that would cause issues in the electric vehicle analysis"
   ]
  },
  {
   "cell_type": "markdown",
   "id": "8862fd6d",
   "metadata": {},
   "source": [
    "The next step will be to peform basic statistical exploratory analysis on each quantitative variable to confirm the results make logical sense based on what the data point represents. The script used returns the normal statistics from describe() but converts them to not be in scientific notation. "
   ]
  },
  {
   "cell_type": "code",
   "execution_count": 65,
   "id": "49670e42",
   "metadata": {},
   "outputs": [
    {
     "data": {
      "text/html": [
       "<div>\n",
       "<style scoped>\n",
       "    .dataframe tbody tr th:only-of-type {\n",
       "        vertical-align: middle;\n",
       "    }\n",
       "\n",
       "    .dataframe tbody tr th {\n",
       "        vertical-align: top;\n",
       "    }\n",
       "\n",
       "    .dataframe thead th {\n",
       "        text-align: right;\n",
       "    }\n",
       "</style>\n",
       "<table border=\"1\" class=\"dataframe\">\n",
       "  <thead>\n",
       "    <tr style=\"text-align: right;\">\n",
       "      <th></th>\n",
       "      <th>year</th>\n",
       "      <th>ev_sales</th>\n",
       "      <th>ev_stock</th>\n",
       "    </tr>\n",
       "  </thead>\n",
       "  <tbody>\n",
       "    <tr>\n",
       "      <th>count</th>\n",
       "      <td>4680.00000</td>\n",
       "      <td>4680.00000</td>\n",
       "      <td>4680.00000</td>\n",
       "    </tr>\n",
       "    <tr>\n",
       "      <th>mean</th>\n",
       "      <td>2016.00000</td>\n",
       "      <td>30910.24274</td>\n",
       "      <td>85711.73803</td>\n",
       "    </tr>\n",
       "    <tr>\n",
       "      <th>std</th>\n",
       "      <td>3.74206</td>\n",
       "      <td>253177.36359</td>\n",
       "      <td>666840.70849</td>\n",
       "    </tr>\n",
       "    <tr>\n",
       "      <th>min</th>\n",
       "      <td>2010.00000</td>\n",
       "      <td>0.00000</td>\n",
       "      <td>0.00000</td>\n",
       "    </tr>\n",
       "    <tr>\n",
       "      <th>25%</th>\n",
       "      <td>2013.00000</td>\n",
       "      <td>0.00000</td>\n",
       "      <td>0.00000</td>\n",
       "    </tr>\n",
       "    <tr>\n",
       "      <th>50%</th>\n",
       "      <td>2016.00000</td>\n",
       "      <td>12.00000</td>\n",
       "      <td>50.00000</td>\n",
       "    </tr>\n",
       "    <tr>\n",
       "      <th>75%</th>\n",
       "      <td>2019.00000</td>\n",
       "      <td>1500.00000</td>\n",
       "      <td>4400.00000</td>\n",
       "    </tr>\n",
       "    <tr>\n",
       "      <th>max</th>\n",
       "      <td>2022.00000</td>\n",
       "      <td>7721000.00000</td>\n",
       "      <td>19930000.00000</td>\n",
       "    </tr>\n",
       "  </tbody>\n",
       "</table>\n",
       "</div>"
      ],
      "text/plain": [
       "             year       ev_sales        ev_stock\n",
       "count  4680.00000     4680.00000      4680.00000\n",
       "mean   2016.00000    30910.24274     85711.73803\n",
       "std       3.74206   253177.36359    666840.70849\n",
       "min    2010.00000        0.00000         0.00000\n",
       "25%    2013.00000        0.00000         0.00000\n",
       "50%    2016.00000       12.00000        50.00000\n",
       "75%    2019.00000     1500.00000      4400.00000\n",
       "max    2022.00000  7721000.00000  19930000.00000"
      ]
     },
     "execution_count": 65,
     "metadata": {},
     "output_type": "execute_result"
    }
   ],
   "source": [
    "df_sales_stock_imputed.describe().apply(lambda x: x.apply('{0:.5f}'.format))"
   ]
  },
  {
   "cell_type": "markdown",
   "id": "c741c448",
   "metadata": {},
   "source": [
    "- Count of 4680 for all makes sense.\n",
    "- For year the mean and 50% percentile of 2016 make sense since all missing data points were imputed in this data set. \n",
    "- For year the min of 2010 and max of 2022 make sense since the time frame in 2010-2022\n",
    "- For year the 25% and 75% percentiles being 2013 and 2019 make sense\n",
    "- For year standard deviation of about 3.7 seems reasonable \n",
    "- For ev_sales and ev_Stock the means seem reasonable. These two measurements are being skewed lower by the significant amount of values that were imputed with zero in this data set. \n",
    "- For ev_sales and ev_stock standard deviation seems reasonable based on the min and max and number of values for each data point. \n",
    "- For ev_sales and ev_stock min and 25% percentile of 0 make sense since there were a significant amount of data points imputed with zero in the data set. \n",
    "- For ev_sales and ev_stock the median and 75% percentile seem low but reasonable. These too are being skewed by the significant amount of imputed zeros. \n",
    "- For ev_sales and ev_stock the maximum values seems reasonable at about 7.7M for sales and 19.9M for stock. These are probably the total sales and stock for the entire world in the most recent year of the data set. It also makes sense that the sales are well below the stock as it would be impossible to have more sales than available vehicles. "
   ]
  },
  {
   "cell_type": "code",
   "execution_count": 66,
   "id": "058f7bbc",
   "metadata": {},
   "outputs": [
    {
     "data": {
      "text/html": [
       "<div>\n",
       "<style scoped>\n",
       "    .dataframe tbody tr th:only-of-type {\n",
       "        vertical-align: middle;\n",
       "    }\n",
       "\n",
       "    .dataframe tbody tr th {\n",
       "        vertical-align: top;\n",
       "    }\n",
       "\n",
       "    .dataframe thead th {\n",
       "        text-align: right;\n",
       "    }\n",
       "</style>\n",
       "<table border=\"1\" class=\"dataframe\">\n",
       "  <thead>\n",
       "    <tr style=\"text-align: right;\">\n",
       "      <th></th>\n",
       "      <th>year</th>\n",
       "      <th>ev_sales</th>\n",
       "      <th>ev_stock</th>\n",
       "    </tr>\n",
       "  </thead>\n",
       "  <tbody>\n",
       "    <tr>\n",
       "      <th>count</th>\n",
       "      <td>2907.00000</td>\n",
       "      <td>2907.00000</td>\n",
       "      <td>2907.00000</td>\n",
       "    </tr>\n",
       "    <tr>\n",
       "      <th>mean</th>\n",
       "      <td>2016.81080</td>\n",
       "      <td>49762.61988</td>\n",
       "      <td>137987.93739</td>\n",
       "    </tr>\n",
       "    <tr>\n",
       "      <th>std</th>\n",
       "      <td>3.58026</td>\n",
       "      <td>319793.78460</td>\n",
       "      <td>841881.98327</td>\n",
       "    </tr>\n",
       "    <tr>\n",
       "      <th>min</th>\n",
       "      <td>2010.00000</td>\n",
       "      <td>0.00000</td>\n",
       "      <td>0.00000</td>\n",
       "    </tr>\n",
       "    <tr>\n",
       "      <th>25%</th>\n",
       "      <td>2014.00000</td>\n",
       "      <td>27.50000</td>\n",
       "      <td>100.00000</td>\n",
       "    </tr>\n",
       "    <tr>\n",
       "      <th>50%</th>\n",
       "      <td>2017.00000</td>\n",
       "      <td>580.00000</td>\n",
       "      <td>1500.00000</td>\n",
       "    </tr>\n",
       "    <tr>\n",
       "      <th>75%</th>\n",
       "      <td>2020.00000</td>\n",
       "      <td>8705.50000</td>\n",
       "      <td>21099.50000</td>\n",
       "    </tr>\n",
       "    <tr>\n",
       "      <th>max</th>\n",
       "      <td>2022.00000</td>\n",
       "      <td>7721000.00000</td>\n",
       "      <td>19930000.00000</td>\n",
       "    </tr>\n",
       "  </tbody>\n",
       "</table>\n",
       "</div>"
      ],
      "text/plain": [
       "             year       ev_sales        ev_stock\n",
       "count  2907.00000     2907.00000      2907.00000\n",
       "mean   2016.81080    49762.61988    137987.93739\n",
       "std       3.58026   319793.78460    841881.98327\n",
       "min    2010.00000        0.00000         0.00000\n",
       "25%    2014.00000       27.50000       100.00000\n",
       "50%    2017.00000      580.00000      1500.00000\n",
       "75%    2020.00000     8705.50000     21099.50000\n",
       "max    2022.00000  7721000.00000  19930000.00000"
      ]
     },
     "execution_count": 66,
     "metadata": {},
     "output_type": "execute_result"
    }
   ],
   "source": [
    "df_sales_stock.describe().apply(lambda x: x.apply('{0:.5f}'.format))"
   ]
  },
  {
   "cell_type": "markdown",
   "id": "8dcc5a73",
   "metadata": {},
   "source": [
    "- This data set contains the same information as the previous, except it excludes all the rows where both the ev_sales and ev_stock values were imputed with zero. \n",
    "- Makes sense that all three values have the same count and that it is less than the previous data set as it excludes fully imputed rows\n",
    "- For year it makes sense that the mean is not a whole number and is higher than in the previous data set. There is more data reported in the later years of the data set which results in the mean for year being higher in this data set. \n",
    "- Year standard deviation is slightly lower but is close to the previous data set. This also makes sense since the lack of imputed values would decrease the spread of the data. \n",
    "- Year min and max are unchanged, while the 25% and 75% percentile are both higher which again makes sense since there is more reported data in the later years of the data set when imputed values are not included. \n",
    "- For ev_sales and ev_stock the mean seems reasonable for both and it makes sense that it is larger than in the previous data set since there are not nearly as many values of zero in this data. \n",
    "- For ev_sales and ev_stock it makes sense that the standard deviation is larger than in the previous data set because the lack of many imputed values of zero would increase the average distance of the data points from the mean. \n",
    "- For ev_sales and ev_stock min and max not changing from the previous data set makes sense. The reason the minimum is zero even though the imputed values were not included in this data is that if for one row of data the ev_sales was zero but the ev_stock was not, then that row remained in the data set. The opposite it true as well, if ev_stock was zero and ev_sales was not then it was also incuded in this data set. (Note: it logically does not make sense for there to be a row with an ev_stock of zero but ev_sales greater than zero. Further analysis of this question will be done below). \n",
    "- 25% and 75% percentiles both seem reasonable and it makes sense that they are higher than the previous data set since there are not as many values of zero in this data set. "
   ]
  },
  {
   "cell_type": "code",
   "execution_count": 67,
   "id": "5963f387",
   "metadata": {},
   "outputs": [
    {
     "data": {
      "text/html": [
       "<div>\n",
       "<style scoped>\n",
       "    .dataframe tbody tr th:only-of-type {\n",
       "        vertical-align: middle;\n",
       "    }\n",
       "\n",
       "    .dataframe tbody tr th {\n",
       "        vertical-align: top;\n",
       "    }\n",
       "\n",
       "    .dataframe thead th {\n",
       "        text-align: right;\n",
       "    }\n",
       "</style>\n",
       "<table border=\"1\" class=\"dataframe\">\n",
       "  <thead>\n",
       "    <tr style=\"text-align: right;\">\n",
       "      <th></th>\n",
       "      <th>year</th>\n",
       "      <th>ev_sales_share</th>\n",
       "      <th>ev_stock_share</th>\n",
       "    </tr>\n",
       "  </thead>\n",
       "  <tbody>\n",
       "    <tr>\n",
       "      <th>count</th>\n",
       "      <td>1872.00000</td>\n",
       "      <td>1872.00000</td>\n",
       "      <td>1872.00000</td>\n",
       "    </tr>\n",
       "    <tr>\n",
       "      <th>mean</th>\n",
       "      <td>2016.00000</td>\n",
       "      <td>0.02126</td>\n",
       "      <td>0.00413</td>\n",
       "    </tr>\n",
       "    <tr>\n",
       "      <th>std</th>\n",
       "      <td>3.74266</td>\n",
       "      <td>0.07224</td>\n",
       "      <td>0.01539</td>\n",
       "    </tr>\n",
       "    <tr>\n",
       "      <th>min</th>\n",
       "      <td>2010.00000</td>\n",
       "      <td>0.00000</td>\n",
       "      <td>0.00000</td>\n",
       "    </tr>\n",
       "    <tr>\n",
       "      <th>25%</th>\n",
       "      <td>2013.00000</td>\n",
       "      <td>0.00000</td>\n",
       "      <td>0.00000</td>\n",
       "    </tr>\n",
       "    <tr>\n",
       "      <th>50%</th>\n",
       "      <td>2016.00000</td>\n",
       "      <td>0.00052</td>\n",
       "      <td>0.00014</td>\n",
       "    </tr>\n",
       "    <tr>\n",
       "      <th>75%</th>\n",
       "      <td>2019.00000</td>\n",
       "      <td>0.00910</td>\n",
       "      <td>0.00190</td>\n",
       "    </tr>\n",
       "    <tr>\n",
       "      <th>max</th>\n",
       "      <td>2022.00000</td>\n",
       "      <td>0.88000</td>\n",
       "      <td>0.27000</td>\n",
       "    </tr>\n",
       "  </tbody>\n",
       "</table>\n",
       "</div>"
      ],
      "text/plain": [
       "             year ev_sales_share ev_stock_share\n",
       "count  1872.00000     1872.00000     1872.00000\n",
       "mean   2016.00000        0.02126        0.00413\n",
       "std       3.74266        0.07224        0.01539\n",
       "min    2010.00000        0.00000        0.00000\n",
       "25%    2013.00000        0.00000        0.00000\n",
       "50%    2016.00000        0.00052        0.00014\n",
       "75%    2019.00000        0.00910        0.00190\n",
       "max    2022.00000        0.88000        0.27000"
      ]
     },
     "execution_count": 67,
     "metadata": {},
     "output_type": "execute_result"
    }
   ],
   "source": [
    "df_shares_imputed.describe().apply(lambda x: x.apply('{0:.5f}'.format))"
   ]
  },
  {
   "cell_type": "markdown",
   "id": "43ddf43e",
   "metadata": {},
   "source": [
    "- For year all of the results make sense for the same reasons listed above for the other imputed data set. \n",
    "- For ev_sales_share and ev_stock_share the very low mean, minimum and 25% percentile of 0, and very low median and 75% percentiles all make sense as the sales share and stock share of electric vehicles has historically been low, and these values are also being skewed even lower by a significant amount of imputed values of zero in this data set. \n",
    "- The stadard deviations of both ev_sales_share and ev_stock_share seem reasonable. \n",
    "- The maximum value of 0.88 for ev_sales_share means that for one combination of region, vehicle type, and year, 88% of all vehicles sold were electric. (Note: this seems high and will be analyzed further below). \n",
    "- The maximum value of 0.27, or 27% for ev_stock_share seems high but more resonable than the 88% noted above. "
   ]
  },
  {
   "cell_type": "code",
   "execution_count": 69,
   "id": "484e2e4b",
   "metadata": {},
   "outputs": [
    {
     "data": {
      "text/html": [
       "<div>\n",
       "<style scoped>\n",
       "    .dataframe tbody tr th:only-of-type {\n",
       "        vertical-align: middle;\n",
       "    }\n",
       "\n",
       "    .dataframe tbody tr th {\n",
       "        vertical-align: top;\n",
       "    }\n",
       "\n",
       "    .dataframe thead th {\n",
       "        text-align: right;\n",
       "    }\n",
       "</style>\n",
       "<table border=\"1\" class=\"dataframe\">\n",
       "  <thead>\n",
       "    <tr style=\"text-align: right;\">\n",
       "      <th></th>\n",
       "      <th>year</th>\n",
       "      <th>ev_sales_share</th>\n",
       "      <th>ev_stock_share</th>\n",
       "    </tr>\n",
       "  </thead>\n",
       "  <tbody>\n",
       "    <tr>\n",
       "      <th>count</th>\n",
       "      <td>1319.00000</td>\n",
       "      <td>1319.00000</td>\n",
       "      <td>1319.00000</td>\n",
       "    </tr>\n",
       "    <tr>\n",
       "      <th>mean</th>\n",
       "      <td>2016.65656</td>\n",
       "      <td>0.03017</td>\n",
       "      <td>0.00586</td>\n",
       "    </tr>\n",
       "    <tr>\n",
       "      <th>std</th>\n",
       "      <td>3.65315</td>\n",
       "      <td>0.08449</td>\n",
       "      <td>0.01806</td>\n",
       "    </tr>\n",
       "    <tr>\n",
       "      <th>min</th>\n",
       "      <td>2010.00000</td>\n",
       "      <td>0.00000</td>\n",
       "      <td>0.00000</td>\n",
       "    </tr>\n",
       "    <tr>\n",
       "      <th>25%</th>\n",
       "      <td>2014.00000</td>\n",
       "      <td>0.00032</td>\n",
       "      <td>0.00009</td>\n",
       "    </tr>\n",
       "    <tr>\n",
       "      <th>50%</th>\n",
       "      <td>2017.00000</td>\n",
       "      <td>0.00340</td>\n",
       "      <td>0.00071</td>\n",
       "    </tr>\n",
       "    <tr>\n",
       "      <th>75%</th>\n",
       "      <td>2020.00000</td>\n",
       "      <td>0.01900</td>\n",
       "      <td>0.00420</td>\n",
       "    </tr>\n",
       "    <tr>\n",
       "      <th>max</th>\n",
       "      <td>2022.00000</td>\n",
       "      <td>0.88000</td>\n",
       "      <td>0.27000</td>\n",
       "    </tr>\n",
       "  </tbody>\n",
       "</table>\n",
       "</div>"
      ],
      "text/plain": [
       "             year ev_sales_share ev_stock_share\n",
       "count  1319.00000     1319.00000     1319.00000\n",
       "mean   2016.65656        0.03017        0.00586\n",
       "std       3.65315        0.08449        0.01806\n",
       "min    2010.00000        0.00000        0.00000\n",
       "25%    2014.00000        0.00032        0.00009\n",
       "50%    2017.00000        0.00340        0.00071\n",
       "75%    2020.00000        0.01900        0.00420\n",
       "max    2022.00000        0.88000        0.27000"
      ]
     },
     "execution_count": 69,
     "metadata": {},
     "output_type": "execute_result"
    }
   ],
   "source": [
    "df_shares.describe().apply(lambda x: x.apply('{0:.5f}'.format))"
   ]
  },
  {
   "cell_type": "markdown",
   "id": "92a56509",
   "metadata": {},
   "source": [
    "- Makes sense that the count is lower than the previous data set\n",
    "- For year makes sense min and max are the same as the previous data set. \n",
    "- For year makes sense that mean, median, and 25% and 75% percentiles are all larger than the previous data set since there are not as many values of zero in this data set. \n",
    "- For year makes sense that the standard deviation is lower (very slightly) than the previous data set since the lack of imputed values reduces the spread of the data set. \n",
    "- For ev_sales_share and ev_stock_share it makese sense that min and max are the same as the previous data set.\n",
    "- For ev_sales_share and ev_stock_share it makes sense that standard deviation is larger than in the previous data set because the lack of many imputed values of zero would increase the average distance of the data points from the mean. \n",
    "- For ev_sales_share and ev_stock_share the mean, median, and 25% and 75% percentiles all seem reasonable. It makes sense that every one of these values is higher for this data set than the previous one because of the lack of imputed values of zero. "
   ]
  },
  {
   "cell_type": "code",
   "execution_count": 70,
   "id": "ab8b40be",
   "metadata": {},
   "outputs": [
    {
     "data": {
      "text/html": [
       "<div>\n",
       "<style scoped>\n",
       "    .dataframe tbody tr th:only-of-type {\n",
       "        vertical-align: middle;\n",
       "    }\n",
       "\n",
       "    .dataframe tbody tr th {\n",
       "        vertical-align: top;\n",
       "    }\n",
       "\n",
       "    .dataframe thead th {\n",
       "        text-align: right;\n",
       "    }\n",
       "</style>\n",
       "<table border=\"1\" class=\"dataframe\">\n",
       "  <thead>\n",
       "    <tr style=\"text-align: right;\">\n",
       "      <th></th>\n",
       "      <th>year</th>\n",
       "      <th>charger_count</th>\n",
       "    </tr>\n",
       "  </thead>\n",
       "  <tbody>\n",
       "    <tr>\n",
       "      <th>count</th>\n",
       "      <td>884.00000</td>\n",
       "      <td>884.00000</td>\n",
       "    </tr>\n",
       "    <tr>\n",
       "      <th>mean</th>\n",
       "      <td>2016.00000</td>\n",
       "      <td>18611.38846</td>\n",
       "    </tr>\n",
       "    <tr>\n",
       "      <th>std</th>\n",
       "      <td>3.74378</td>\n",
       "      <td>107353.96068</td>\n",
       "    </tr>\n",
       "    <tr>\n",
       "      <th>min</th>\n",
       "      <td>2010.00000</td>\n",
       "      <td>0.00000</td>\n",
       "    </tr>\n",
       "    <tr>\n",
       "      <th>25%</th>\n",
       "      <td>2013.00000</td>\n",
       "      <td>0.00000</td>\n",
       "    </tr>\n",
       "    <tr>\n",
       "      <th>50%</th>\n",
       "      <td>2016.00000</td>\n",
       "      <td>160.00000</td>\n",
       "    </tr>\n",
       "    <tr>\n",
       "      <th>75%</th>\n",
       "      <td>2019.00000</td>\n",
       "      <td>2600.00000</td>\n",
       "    </tr>\n",
       "    <tr>\n",
       "      <th>max</th>\n",
       "      <td>2022.00000</td>\n",
       "      <td>1782810.00000</td>\n",
       "    </tr>\n",
       "  </tbody>\n",
       "</table>\n",
       "</div>"
      ],
      "text/plain": [
       "             year  charger_count\n",
       "count   884.00000      884.00000\n",
       "mean   2016.00000    18611.38846\n",
       "std       3.74378   107353.96068\n",
       "min    2010.00000        0.00000\n",
       "25%    2013.00000        0.00000\n",
       "50%    2016.00000      160.00000\n",
       "75%    2019.00000     2600.00000\n",
       "max    2022.00000  1782810.00000"
      ]
     },
     "execution_count": 70,
     "metadata": {},
     "output_type": "execute_result"
    }
   ],
   "source": [
    "df_chargers_imputed.describe().apply(lambda x: x.apply('{0:.5f}'.format))"
   ]
  },
  {
   "cell_type": "markdown",
   "id": "019fbb23",
   "metadata": {},
   "source": [
    "- Results for year are reasonable for the same reasons listed above for the other two imputed data sets. \n",
    "- For charger_count makes sense the count is the same as the count for year \n",
    "- The standard deviation of about 107k seems a bit high but is probably just due to the large variation of values in this data set. \n",
    "- The mean charger count seems reasonable. It is being skewed by the imputed values of zero. \n",
    "- The min and 25% percentile being zero makes sense due to the significant amount of imputed valued in this data set. \n",
    "- The median and 75% percentiles both seem reasonable. They too are being skewed lower by the imputed values. \n",
    "- The max value of 1.8M seems reasonable. it is most likely the amount for the total of all regions in this data set for the most recent year of the data set."
   ]
  },
  {
   "cell_type": "code",
   "execution_count": 71,
   "id": "5c29834e",
   "metadata": {},
   "outputs": [
    {
     "data": {
      "text/html": [
       "<div>\n",
       "<style scoped>\n",
       "    .dataframe tbody tr th:only-of-type {\n",
       "        vertical-align: middle;\n",
       "    }\n",
       "\n",
       "    .dataframe tbody tr th {\n",
       "        vertical-align: top;\n",
       "    }\n",
       "\n",
       "    .dataframe thead th {\n",
       "        text-align: right;\n",
       "    }\n",
       "</style>\n",
       "<table border=\"1\" class=\"dataframe\">\n",
       "  <thead>\n",
       "    <tr style=\"text-align: right;\">\n",
       "      <th></th>\n",
       "      <th>year</th>\n",
       "      <th>charger_count</th>\n",
       "    </tr>\n",
       "  </thead>\n",
       "  <tbody>\n",
       "    <tr>\n",
       "      <th>count</th>\n",
       "      <td>630.00000</td>\n",
       "      <td>630.00000</td>\n",
       "    </tr>\n",
       "    <tr>\n",
       "      <th>mean</th>\n",
       "      <td>2017.48254</td>\n",
       "      <td>26115.02762</td>\n",
       "    </tr>\n",
       "    <tr>\n",
       "      <th>std</th>\n",
       "      <td>3.16964</td>\n",
       "      <td>126422.01873</td>\n",
       "    </tr>\n",
       "    <tr>\n",
       "      <th>min</th>\n",
       "      <td>2010.00000</td>\n",
       "      <td>0.10000</td>\n",
       "    </tr>\n",
       "    <tr>\n",
       "      <th>25%</th>\n",
       "      <td>2015.00000</td>\n",
       "      <td>110.00000</td>\n",
       "    </tr>\n",
       "    <tr>\n",
       "      <th>50%</th>\n",
       "      <td>2018.00000</td>\n",
       "      <td>1000.00000</td>\n",
       "    </tr>\n",
       "    <tr>\n",
       "      <th>75%</th>\n",
       "      <td>2020.00000</td>\n",
       "      <td>5950.00000</td>\n",
       "    </tr>\n",
       "    <tr>\n",
       "      <th>max</th>\n",
       "      <td>2022.00000</td>\n",
       "      <td>1782810.00000</td>\n",
       "    </tr>\n",
       "  </tbody>\n",
       "</table>\n",
       "</div>"
      ],
      "text/plain": [
       "             year  charger_count\n",
       "count   630.00000      630.00000\n",
       "mean   2017.48254    26115.02762\n",
       "std       3.16964   126422.01873\n",
       "min    2010.00000        0.10000\n",
       "25%    2015.00000      110.00000\n",
       "50%    2018.00000     1000.00000\n",
       "75%    2020.00000     5950.00000\n",
       "max    2022.00000  1782810.00000"
      ]
     },
     "execution_count": 71,
     "metadata": {},
     "output_type": "execute_result"
    }
   ],
   "source": [
    "df_chargers.describe().apply(lambda x: x.apply('{0:.5f}'.format))"
   ]
  },
  {
   "cell_type": "markdown",
   "id": "9c4c5bdf",
   "metadata": {},
   "source": [
    "- Makes sense that the count is lower than the previous data set\n",
    "- For year makes sense min and max are the same as the previous data set. \n",
    "- For year makes sense that mean, median, and 25% and 75% percentiles are all larger than the previous data set since there are not as many values of zero in this data set. \n",
    "- For year makes sense that the standard deviation is lower than the previous data set since the lack of imputed values reduces the spread of the data set. \n",
    "- For charger_count it makese sense that min and max are the same as the previous data set.\n",
    "- For charger_count it makes sense that standard deviation is larger than in the previous data set because the lack of many imputed values of zero would increase the average distance of the data points from the mean. This value does also seem high but not unreasonbly so.\n",
    "- For charger_count the mean, median, and 25% and 75% percentiles all seem reasonable. It makes sense that every one of these values is higher for this data set than the previous one because of the lack of imputed values of zero. "
   ]
  },
  {
   "cell_type": "markdown",
   "id": "10a194db",
   "metadata": {},
   "source": [
    "As noted above, it seems illogical that there would be any rows in the sales and stock table where the stock value would be zero, but there would be vehicle sales, since it seems impossible for there to be sales of vehicles when there is no stock available. "
   ]
  },
  {
   "cell_type": "markdown",
   "id": "c1e11ddf",
   "metadata": {},
   "source": [
    "The below query sets the max number of rows shown to 85 so the full result is shown, and then prints all rows from the sales and stock table for specific vehicle types (not total) where there is zero stock but more than zero sales. "
   ]
  },
  {
   "cell_type": "code",
   "execution_count": 98,
   "id": "9a1d1ac8",
   "metadata": {},
   "outputs": [
    {
     "data": {
      "text/html": [
       "<div>\n",
       "<style scoped>\n",
       "    .dataframe tbody tr th:only-of-type {\n",
       "        vertical-align: middle;\n",
       "    }\n",
       "\n",
       "    .dataframe tbody tr th {\n",
       "        vertical-align: top;\n",
       "    }\n",
       "\n",
       "    .dataframe thead th {\n",
       "        text-align: right;\n",
       "    }\n",
       "</style>\n",
       "<table border=\"1\" class=\"dataframe\">\n",
       "  <thead>\n",
       "    <tr style=\"text-align: right;\">\n",
       "      <th></th>\n",
       "      <th>region</th>\n",
       "      <th>vehicle_type</th>\n",
       "      <th>powertrain_type</th>\n",
       "      <th>year</th>\n",
       "      <th>ev_sales</th>\n",
       "      <th>ev_stock</th>\n",
       "    </tr>\n",
       "  </thead>\n",
       "  <tbody>\n",
       "    <tr>\n",
       "      <th>73</th>\n",
       "      <td>Brazil</td>\n",
       "      <td>Cars</td>\n",
       "      <td>BEV</td>\n",
       "      <td>2012</td>\n",
       "      <td>74</td>\n",
       "      <td>0</td>\n",
       "    </tr>\n",
       "    <tr>\n",
       "      <th>74</th>\n",
       "      <td>Brazil</td>\n",
       "      <td>Cars</td>\n",
       "      <td>PHEV</td>\n",
       "      <td>2012</td>\n",
       "      <td>18</td>\n",
       "      <td>0</td>\n",
       "    </tr>\n",
       "    <tr>\n",
       "      <th>75</th>\n",
       "      <td>Brazil</td>\n",
       "      <td>Cars</td>\n",
       "      <td>BEV</td>\n",
       "      <td>2013</td>\n",
       "      <td>130</td>\n",
       "      <td>0</td>\n",
       "    </tr>\n",
       "    <tr>\n",
       "      <th>76</th>\n",
       "      <td>Brazil</td>\n",
       "      <td>Cars</td>\n",
       "      <td>PHEV</td>\n",
       "      <td>2013</td>\n",
       "      <td>33</td>\n",
       "      <td>0</td>\n",
       "    </tr>\n",
       "    <tr>\n",
       "      <th>590</th>\n",
       "      <td>Poland</td>\n",
       "      <td>Cars</td>\n",
       "      <td>BEV</td>\n",
       "      <td>2010</td>\n",
       "      <td>15</td>\n",
       "      <td>0</td>\n",
       "    </tr>\n",
       "    <tr>\n",
       "      <th>591</th>\n",
       "      <td>Poland</td>\n",
       "      <td>Cars</td>\n",
       "      <td>PHEV</td>\n",
       "      <td>2010</td>\n",
       "      <td>1</td>\n",
       "      <td>0</td>\n",
       "    </tr>\n",
       "    <tr>\n",
       "      <th>592</th>\n",
       "      <td>Poland</td>\n",
       "      <td>Cars</td>\n",
       "      <td>BEV</td>\n",
       "      <td>2011</td>\n",
       "      <td>43</td>\n",
       "      <td>0</td>\n",
       "    </tr>\n",
       "    <tr>\n",
       "      <th>593</th>\n",
       "      <td>Poland</td>\n",
       "      <td>Cars</td>\n",
       "      <td>BEV</td>\n",
       "      <td>2012</td>\n",
       "      <td>44</td>\n",
       "      <td>0</td>\n",
       "    </tr>\n",
       "    <tr>\n",
       "      <th>594</th>\n",
       "      <td>Poland</td>\n",
       "      <td>Cars</td>\n",
       "      <td>PHEV</td>\n",
       "      <td>2012</td>\n",
       "      <td>4</td>\n",
       "      <td>0</td>\n",
       "    </tr>\n",
       "    <tr>\n",
       "      <th>595</th>\n",
       "      <td>Poland</td>\n",
       "      <td>Cars</td>\n",
       "      <td>BEV</td>\n",
       "      <td>2013</td>\n",
       "      <td>31</td>\n",
       "      <td>0</td>\n",
       "    </tr>\n",
       "    <tr>\n",
       "      <th>596</th>\n",
       "      <td>Poland</td>\n",
       "      <td>Cars</td>\n",
       "      <td>PHEV</td>\n",
       "      <td>2013</td>\n",
       "      <td>6</td>\n",
       "      <td>0</td>\n",
       "    </tr>\n",
       "    <tr>\n",
       "      <th>597</th>\n",
       "      <td>Poland</td>\n",
       "      <td>Cars</td>\n",
       "      <td>BEV</td>\n",
       "      <td>2014</td>\n",
       "      <td>140</td>\n",
       "      <td>0</td>\n",
       "    </tr>\n",
       "    <tr>\n",
       "      <th>598</th>\n",
       "      <td>Poland</td>\n",
       "      <td>Cars</td>\n",
       "      <td>PHEV</td>\n",
       "      <td>2014</td>\n",
       "      <td>61</td>\n",
       "      <td>0</td>\n",
       "    </tr>\n",
       "    <tr>\n",
       "      <th>600</th>\n",
       "      <td>Poland</td>\n",
       "      <td>Cars</td>\n",
       "      <td>PHEV</td>\n",
       "      <td>2015</td>\n",
       "      <td>150</td>\n",
       "      <td>0</td>\n",
       "    </tr>\n",
       "    <tr>\n",
       "      <th>602</th>\n",
       "      <td>Poland</td>\n",
       "      <td>Cars</td>\n",
       "      <td>PHEV</td>\n",
       "      <td>2016</td>\n",
       "      <td>400</td>\n",
       "      <td>0</td>\n",
       "    </tr>\n",
       "    <tr>\n",
       "      <th>604</th>\n",
       "      <td>Poland</td>\n",
       "      <td>Cars</td>\n",
       "      <td>PHEV</td>\n",
       "      <td>2017</td>\n",
       "      <td>640</td>\n",
       "      <td>0</td>\n",
       "    </tr>\n",
       "    <tr>\n",
       "      <th>606</th>\n",
       "      <td>Poland</td>\n",
       "      <td>Cars</td>\n",
       "      <td>PHEV</td>\n",
       "      <td>2018</td>\n",
       "      <td>760</td>\n",
       "      <td>0</td>\n",
       "    </tr>\n",
       "    <tr>\n",
       "      <th>753</th>\n",
       "      <td>Turkiye</td>\n",
       "      <td>Cars</td>\n",
       "      <td>BEV</td>\n",
       "      <td>2012</td>\n",
       "      <td>92</td>\n",
       "      <td>0</td>\n",
       "    </tr>\n",
       "    <tr>\n",
       "      <th>755</th>\n",
       "      <td>Turkiye</td>\n",
       "      <td>Cars</td>\n",
       "      <td>PHEV</td>\n",
       "      <td>2013</td>\n",
       "      <td>1</td>\n",
       "      <td>0</td>\n",
       "    </tr>\n",
       "    <tr>\n",
       "      <th>757</th>\n",
       "      <td>Turkiye</td>\n",
       "      <td>Cars</td>\n",
       "      <td>PHEV</td>\n",
       "      <td>2014</td>\n",
       "      <td>22</td>\n",
       "      <td>0</td>\n",
       "    </tr>\n",
       "    <tr>\n",
       "      <th>759</th>\n",
       "      <td>Turkiye</td>\n",
       "      <td>Cars</td>\n",
       "      <td>PHEV</td>\n",
       "      <td>2015</td>\n",
       "      <td>110</td>\n",
       "      <td>0</td>\n",
       "    </tr>\n",
       "    <tr>\n",
       "      <th>886</th>\n",
       "      <td>Brazil</td>\n",
       "      <td>Buses</td>\n",
       "      <td>BEV</td>\n",
       "      <td>2010</td>\n",
       "      <td>3</td>\n",
       "      <td>0</td>\n",
       "    </tr>\n",
       "    <tr>\n",
       "      <th>887</th>\n",
       "      <td>Brazil</td>\n",
       "      <td>Buses</td>\n",
       "      <td>BEV</td>\n",
       "      <td>2011</td>\n",
       "      <td>3</td>\n",
       "      <td>0</td>\n",
       "    </tr>\n",
       "    <tr>\n",
       "      <th>888</th>\n",
       "      <td>Brazil</td>\n",
       "      <td>Buses</td>\n",
       "      <td>BEV</td>\n",
       "      <td>2012</td>\n",
       "      <td>94</td>\n",
       "      <td>0</td>\n",
       "    </tr>\n",
       "    <tr>\n",
       "      <th>889</th>\n",
       "      <td>Brazil</td>\n",
       "      <td>Buses</td>\n",
       "      <td>BEV</td>\n",
       "      <td>2013</td>\n",
       "      <td>120</td>\n",
       "      <td>0</td>\n",
       "    </tr>\n",
       "    <tr>\n",
       "      <th>890</th>\n",
       "      <td>Brazil</td>\n",
       "      <td>Buses</td>\n",
       "      <td>BEV</td>\n",
       "      <td>2015</td>\n",
       "      <td>13</td>\n",
       "      <td>0</td>\n",
       "    </tr>\n",
       "    <tr>\n",
       "      <th>891</th>\n",
       "      <td>Brazil</td>\n",
       "      <td>Buses</td>\n",
       "      <td>BEV</td>\n",
       "      <td>2016</td>\n",
       "      <td>15</td>\n",
       "      <td>0</td>\n",
       "    </tr>\n",
       "    <tr>\n",
       "      <th>892</th>\n",
       "      <td>Brazil</td>\n",
       "      <td>Buses</td>\n",
       "      <td>BEV</td>\n",
       "      <td>2017</td>\n",
       "      <td>2</td>\n",
       "      <td>0</td>\n",
       "    </tr>\n",
       "    <tr>\n",
       "      <th>895</th>\n",
       "      <td>Brazil</td>\n",
       "      <td>Buses</td>\n",
       "      <td>BEV</td>\n",
       "      <td>2020</td>\n",
       "      <td>55</td>\n",
       "      <td>0</td>\n",
       "    </tr>\n",
       "    <tr>\n",
       "      <th>897</th>\n",
       "      <td>Brazil</td>\n",
       "      <td>Buses</td>\n",
       "      <td>BEV</td>\n",
       "      <td>2022</td>\n",
       "      <td>37</td>\n",
       "      <td>0</td>\n",
       "    </tr>\n",
       "    <tr>\n",
       "      <th>898</th>\n",
       "      <td>Canada</td>\n",
       "      <td>Buses</td>\n",
       "      <td>BEV</td>\n",
       "      <td>2016</td>\n",
       "      <td>5</td>\n",
       "      <td>0</td>\n",
       "    </tr>\n",
       "    <tr>\n",
       "      <th>899</th>\n",
       "      <td>Canada</td>\n",
       "      <td>Buses</td>\n",
       "      <td>BEV</td>\n",
       "      <td>2017</td>\n",
       "      <td>11</td>\n",
       "      <td>0</td>\n",
       "    </tr>\n",
       "    <tr>\n",
       "      <th>1162</th>\n",
       "      <td>Poland</td>\n",
       "      <td>Buses</td>\n",
       "      <td>BEV</td>\n",
       "      <td>2018</td>\n",
       "      <td>63</td>\n",
       "      <td>0</td>\n",
       "    </tr>\n",
       "    <tr>\n",
       "      <th>1172</th>\n",
       "      <td>Portugal</td>\n",
       "      <td>Buses</td>\n",
       "      <td>PHEV</td>\n",
       "      <td>2014</td>\n",
       "      <td>2</td>\n",
       "      <td>0</td>\n",
       "    </tr>\n",
       "    <tr>\n",
       "      <th>1174</th>\n",
       "      <td>Portugal</td>\n",
       "      <td>Buses</td>\n",
       "      <td>PHEV</td>\n",
       "      <td>2017</td>\n",
       "      <td>2</td>\n",
       "      <td>0</td>\n",
       "    </tr>\n",
       "    <tr>\n",
       "      <th>1195</th>\n",
       "      <td>Spain</td>\n",
       "      <td>Buses</td>\n",
       "      <td>BEV</td>\n",
       "      <td>2014</td>\n",
       "      <td>11</td>\n",
       "      <td>0</td>\n",
       "    </tr>\n",
       "    <tr>\n",
       "      <th>1196</th>\n",
       "      <td>Spain</td>\n",
       "      <td>Buses</td>\n",
       "      <td>BEV</td>\n",
       "      <td>2015</td>\n",
       "      <td>2</td>\n",
       "      <td>0</td>\n",
       "    </tr>\n",
       "    <tr>\n",
       "      <th>1197</th>\n",
       "      <td>Spain</td>\n",
       "      <td>Buses</td>\n",
       "      <td>BEV</td>\n",
       "      <td>2016</td>\n",
       "      <td>27</td>\n",
       "      <td>0</td>\n",
       "    </tr>\n",
       "    <tr>\n",
       "      <th>1504</th>\n",
       "      <td>Greece</td>\n",
       "      <td>Vans</td>\n",
       "      <td>PHEV</td>\n",
       "      <td>2020</td>\n",
       "      <td>3</td>\n",
       "      <td>0</td>\n",
       "    </tr>\n",
       "    <tr>\n",
       "      <th>1534</th>\n",
       "      <td>Israel</td>\n",
       "      <td>Vans</td>\n",
       "      <td>PHEV</td>\n",
       "      <td>2021</td>\n",
       "      <td>2</td>\n",
       "      <td>0</td>\n",
       "    </tr>\n",
       "    <tr>\n",
       "      <th>1536</th>\n",
       "      <td>Israel</td>\n",
       "      <td>Vans</td>\n",
       "      <td>PHEV</td>\n",
       "      <td>2022</td>\n",
       "      <td>18</td>\n",
       "      <td>0</td>\n",
       "    </tr>\n",
       "    <tr>\n",
       "      <th>1540</th>\n",
       "      <td>Italy</td>\n",
       "      <td>Vans</td>\n",
       "      <td>PHEV</td>\n",
       "      <td>2012</td>\n",
       "      <td>3</td>\n",
       "      <td>0</td>\n",
       "    </tr>\n",
       "    <tr>\n",
       "      <th>1542</th>\n",
       "      <td>Italy</td>\n",
       "      <td>Vans</td>\n",
       "      <td>PHEV</td>\n",
       "      <td>2013</td>\n",
       "      <td>1</td>\n",
       "      <td>0</td>\n",
       "    </tr>\n",
       "    <tr>\n",
       "      <th>1547</th>\n",
       "      <td>Italy</td>\n",
       "      <td>Vans</td>\n",
       "      <td>PHEV</td>\n",
       "      <td>2017</td>\n",
       "      <td>2</td>\n",
       "      <td>0</td>\n",
       "    </tr>\n",
       "    <tr>\n",
       "      <th>1603</th>\n",
       "      <td>Norway</td>\n",
       "      <td>Vans</td>\n",
       "      <td>BEV</td>\n",
       "      <td>2010</td>\n",
       "      <td>1</td>\n",
       "      <td>0</td>\n",
       "    </tr>\n",
       "    <tr>\n",
       "      <th>1632</th>\n",
       "      <td>Other Europe</td>\n",
       "      <td>Vans</td>\n",
       "      <td>PHEV</td>\n",
       "      <td>2019</td>\n",
       "      <td>3</td>\n",
       "      <td>0</td>\n",
       "    </tr>\n",
       "    <tr>\n",
       "      <th>1639</th>\n",
       "      <td>Poland</td>\n",
       "      <td>Vans</td>\n",
       "      <td>BEV</td>\n",
       "      <td>2010</td>\n",
       "      <td>3</td>\n",
       "      <td>0</td>\n",
       "    </tr>\n",
       "    <tr>\n",
       "      <th>1640</th>\n",
       "      <td>Poland</td>\n",
       "      <td>Vans</td>\n",
       "      <td>BEV</td>\n",
       "      <td>2011</td>\n",
       "      <td>3</td>\n",
       "      <td>0</td>\n",
       "    </tr>\n",
       "    <tr>\n",
       "      <th>1641</th>\n",
       "      <td>Poland</td>\n",
       "      <td>Vans</td>\n",
       "      <td>BEV</td>\n",
       "      <td>2012</td>\n",
       "      <td>16</td>\n",
       "      <td>0</td>\n",
       "    </tr>\n",
       "    <tr>\n",
       "      <th>1642</th>\n",
       "      <td>Poland</td>\n",
       "      <td>Vans</td>\n",
       "      <td>BEV</td>\n",
       "      <td>2013</td>\n",
       "      <td>10</td>\n",
       "      <td>0</td>\n",
       "    </tr>\n",
       "    <tr>\n",
       "      <th>1643</th>\n",
       "      <td>Poland</td>\n",
       "      <td>Vans</td>\n",
       "      <td>BEV</td>\n",
       "      <td>2014</td>\n",
       "      <td>8</td>\n",
       "      <td>0</td>\n",
       "    </tr>\n",
       "    <tr>\n",
       "      <th>1645</th>\n",
       "      <td>Poland</td>\n",
       "      <td>Vans</td>\n",
       "      <td>PHEV</td>\n",
       "      <td>2015</td>\n",
       "      <td>2</td>\n",
       "      <td>0</td>\n",
       "    </tr>\n",
       "    <tr>\n",
       "      <th>1657</th>\n",
       "      <td>Portugal</td>\n",
       "      <td>Vans</td>\n",
       "      <td>BEV</td>\n",
       "      <td>2011</td>\n",
       "      <td>5</td>\n",
       "      <td>0</td>\n",
       "    </tr>\n",
       "    <tr>\n",
       "      <th>1658</th>\n",
       "      <td>Portugal</td>\n",
       "      <td>Vans</td>\n",
       "      <td>BEV</td>\n",
       "      <td>2012</td>\n",
       "      <td>16</td>\n",
       "      <td>0</td>\n",
       "    </tr>\n",
       "    <tr>\n",
       "      <th>1659</th>\n",
       "      <td>Portugal</td>\n",
       "      <td>Vans</td>\n",
       "      <td>BEV</td>\n",
       "      <td>2014</td>\n",
       "      <td>27</td>\n",
       "      <td>0</td>\n",
       "    </tr>\n",
       "    <tr>\n",
       "      <th>1660</th>\n",
       "      <td>Portugal</td>\n",
       "      <td>Vans</td>\n",
       "      <td>BEV</td>\n",
       "      <td>2015</td>\n",
       "      <td>58</td>\n",
       "      <td>0</td>\n",
       "    </tr>\n",
       "    <tr>\n",
       "      <th>1661</th>\n",
       "      <td>Portugal</td>\n",
       "      <td>Vans</td>\n",
       "      <td>BEV</td>\n",
       "      <td>2016</td>\n",
       "      <td>44</td>\n",
       "      <td>0</td>\n",
       "    </tr>\n",
       "    <tr>\n",
       "      <th>1678</th>\n",
       "      <td>Spain</td>\n",
       "      <td>Vans</td>\n",
       "      <td>BEV</td>\n",
       "      <td>2011</td>\n",
       "      <td>24</td>\n",
       "      <td>0</td>\n",
       "    </tr>\n",
       "    <tr>\n",
       "      <th>1679</th>\n",
       "      <td>Spain</td>\n",
       "      <td>Vans</td>\n",
       "      <td>BEV</td>\n",
       "      <td>2012</td>\n",
       "      <td>200</td>\n",
       "      <td>0</td>\n",
       "    </tr>\n",
       "    <tr>\n",
       "      <th>1680</th>\n",
       "      <td>Spain</td>\n",
       "      <td>Vans</td>\n",
       "      <td>BEV</td>\n",
       "      <td>2013</td>\n",
       "      <td>72</td>\n",
       "      <td>0</td>\n",
       "    </tr>\n",
       "    <tr>\n",
       "      <th>1681</th>\n",
       "      <td>Spain</td>\n",
       "      <td>Vans</td>\n",
       "      <td>BEV</td>\n",
       "      <td>2014</td>\n",
       "      <td>360</td>\n",
       "      <td>0</td>\n",
       "    </tr>\n",
       "    <tr>\n",
       "      <th>1804</th>\n",
       "      <td>Brazil</td>\n",
       "      <td>Trucks</td>\n",
       "      <td>BEV</td>\n",
       "      <td>2020</td>\n",
       "      <td>15</td>\n",
       "      <td>0</td>\n",
       "    </tr>\n",
       "    <tr>\n",
       "      <th>1805</th>\n",
       "      <td>Brazil</td>\n",
       "      <td>Trucks</td>\n",
       "      <td>BEV</td>\n",
       "      <td>2022</td>\n",
       "      <td>1300</td>\n",
       "      <td>0</td>\n",
       "    </tr>\n",
       "    <tr>\n",
       "      <th>1806</th>\n",
       "      <td>Canada</td>\n",
       "      <td>Trucks</td>\n",
       "      <td>BEV</td>\n",
       "      <td>2010</td>\n",
       "      <td>1</td>\n",
       "      <td>0</td>\n",
       "    </tr>\n",
       "    <tr>\n",
       "      <th>1890</th>\n",
       "      <td>Finland</td>\n",
       "      <td>Trucks</td>\n",
       "      <td>BEV</td>\n",
       "      <td>2017</td>\n",
       "      <td>2</td>\n",
       "      <td>0</td>\n",
       "    </tr>\n",
       "    <tr>\n",
       "      <th>1911</th>\n",
       "      <td>France</td>\n",
       "      <td>Trucks</td>\n",
       "      <td>PHEV</td>\n",
       "      <td>2021</td>\n",
       "      <td>10</td>\n",
       "      <td>0</td>\n",
       "    </tr>\n",
       "    <tr>\n",
       "      <th>1914</th>\n",
       "      <td>Germany</td>\n",
       "      <td>Trucks</td>\n",
       "      <td>BEV</td>\n",
       "      <td>2019</td>\n",
       "      <td>610</td>\n",
       "      <td>0</td>\n",
       "    </tr>\n",
       "    <tr>\n",
       "      <th>1915</th>\n",
       "      <td>Germany</td>\n",
       "      <td>Trucks</td>\n",
       "      <td>BEV</td>\n",
       "      <td>2020</td>\n",
       "      <td>850</td>\n",
       "      <td>0</td>\n",
       "    </tr>\n",
       "    <tr>\n",
       "      <th>1932</th>\n",
       "      <td>Italy</td>\n",
       "      <td>Trucks</td>\n",
       "      <td>BEV</td>\n",
       "      <td>2010</td>\n",
       "      <td>1</td>\n",
       "      <td>0</td>\n",
       "    </tr>\n",
       "    <tr>\n",
       "      <th>1933</th>\n",
       "      <td>Italy</td>\n",
       "      <td>Trucks</td>\n",
       "      <td>BEV</td>\n",
       "      <td>2011</td>\n",
       "      <td>2</td>\n",
       "      <td>0</td>\n",
       "    </tr>\n",
       "    <tr>\n",
       "      <th>1934</th>\n",
       "      <td>Italy</td>\n",
       "      <td>Trucks</td>\n",
       "      <td>BEV</td>\n",
       "      <td>2012</td>\n",
       "      <td>3</td>\n",
       "      <td>0</td>\n",
       "    </tr>\n",
       "    <tr>\n",
       "      <th>1935</th>\n",
       "      <td>Italy</td>\n",
       "      <td>Trucks</td>\n",
       "      <td>BEV</td>\n",
       "      <td>2013</td>\n",
       "      <td>8</td>\n",
       "      <td>0</td>\n",
       "    </tr>\n",
       "    <tr>\n",
       "      <th>1936</th>\n",
       "      <td>Italy</td>\n",
       "      <td>Trucks</td>\n",
       "      <td>BEV</td>\n",
       "      <td>2014</td>\n",
       "      <td>6</td>\n",
       "      <td>0</td>\n",
       "    </tr>\n",
       "    <tr>\n",
       "      <th>1937</th>\n",
       "      <td>Italy</td>\n",
       "      <td>Trucks</td>\n",
       "      <td>BEV</td>\n",
       "      <td>2015</td>\n",
       "      <td>9</td>\n",
       "      <td>0</td>\n",
       "    </tr>\n",
       "    <tr>\n",
       "      <th>1988</th>\n",
       "      <td>Poland</td>\n",
       "      <td>Trucks</td>\n",
       "      <td>BEV</td>\n",
       "      <td>2013</td>\n",
       "      <td>1</td>\n",
       "      <td>0</td>\n",
       "    </tr>\n",
       "    <tr>\n",
       "      <th>2001</th>\n",
       "      <td>Spain</td>\n",
       "      <td>Trucks</td>\n",
       "      <td>BEV</td>\n",
       "      <td>2016</td>\n",
       "      <td>13</td>\n",
       "      <td>0</td>\n",
       "    </tr>\n",
       "    <tr>\n",
       "      <th>2002</th>\n",
       "      <td>Spain</td>\n",
       "      <td>Trucks</td>\n",
       "      <td>BEV</td>\n",
       "      <td>2017</td>\n",
       "      <td>2</td>\n",
       "      <td>0</td>\n",
       "    </tr>\n",
       "    <tr>\n",
       "      <th>2014</th>\n",
       "      <td>Switzerland</td>\n",
       "      <td>Trucks</td>\n",
       "      <td>BEV</td>\n",
       "      <td>2019</td>\n",
       "      <td>23</td>\n",
       "      <td>0</td>\n",
       "    </tr>\n",
       "    <tr>\n",
       "      <th>2015</th>\n",
       "      <td>Switzerland</td>\n",
       "      <td>Trucks</td>\n",
       "      <td>BEV</td>\n",
       "      <td>2020</td>\n",
       "      <td>26</td>\n",
       "      <td>0</td>\n",
       "    </tr>\n",
       "    <tr>\n",
       "      <th>2016</th>\n",
       "      <td>Switzerland</td>\n",
       "      <td>Trucks</td>\n",
       "      <td>BEV</td>\n",
       "      <td>2021</td>\n",
       "      <td>34</td>\n",
       "      <td>0</td>\n",
       "    </tr>\n",
       "  </tbody>\n",
       "</table>\n",
       "</div>"
      ],
      "text/plain": [
       "            region vehicle_type powertrain_type  year  ev_sales  ev_stock\n",
       "73          Brazil         Cars             BEV  2012        74         0\n",
       "74          Brazil         Cars            PHEV  2012        18         0\n",
       "75          Brazil         Cars             BEV  2013       130         0\n",
       "76          Brazil         Cars            PHEV  2013        33         0\n",
       "590         Poland         Cars             BEV  2010        15         0\n",
       "591         Poland         Cars            PHEV  2010         1         0\n",
       "592         Poland         Cars             BEV  2011        43         0\n",
       "593         Poland         Cars             BEV  2012        44         0\n",
       "594         Poland         Cars            PHEV  2012         4         0\n",
       "595         Poland         Cars             BEV  2013        31         0\n",
       "596         Poland         Cars            PHEV  2013         6         0\n",
       "597         Poland         Cars             BEV  2014       140         0\n",
       "598         Poland         Cars            PHEV  2014        61         0\n",
       "600         Poland         Cars            PHEV  2015       150         0\n",
       "602         Poland         Cars            PHEV  2016       400         0\n",
       "604         Poland         Cars            PHEV  2017       640         0\n",
       "606         Poland         Cars            PHEV  2018       760         0\n",
       "753        Turkiye         Cars             BEV  2012        92         0\n",
       "755        Turkiye         Cars            PHEV  2013         1         0\n",
       "757        Turkiye         Cars            PHEV  2014        22         0\n",
       "759        Turkiye         Cars            PHEV  2015       110         0\n",
       "886         Brazil        Buses             BEV  2010         3         0\n",
       "887         Brazil        Buses             BEV  2011         3         0\n",
       "888         Brazil        Buses             BEV  2012        94         0\n",
       "889         Brazil        Buses             BEV  2013       120         0\n",
       "890         Brazil        Buses             BEV  2015        13         0\n",
       "891         Brazil        Buses             BEV  2016        15         0\n",
       "892         Brazil        Buses             BEV  2017         2         0\n",
       "895         Brazil        Buses             BEV  2020        55         0\n",
       "897         Brazil        Buses             BEV  2022        37         0\n",
       "898         Canada        Buses             BEV  2016         5         0\n",
       "899         Canada        Buses             BEV  2017        11         0\n",
       "1162        Poland        Buses             BEV  2018        63         0\n",
       "1172      Portugal        Buses            PHEV  2014         2         0\n",
       "1174      Portugal        Buses            PHEV  2017         2         0\n",
       "1195         Spain        Buses             BEV  2014        11         0\n",
       "1196         Spain        Buses             BEV  2015         2         0\n",
       "1197         Spain        Buses             BEV  2016        27         0\n",
       "1504        Greece         Vans            PHEV  2020         3         0\n",
       "1534        Israel         Vans            PHEV  2021         2         0\n",
       "1536        Israel         Vans            PHEV  2022        18         0\n",
       "1540         Italy         Vans            PHEV  2012         3         0\n",
       "1542         Italy         Vans            PHEV  2013         1         0\n",
       "1547         Italy         Vans            PHEV  2017         2         0\n",
       "1603        Norway         Vans             BEV  2010         1         0\n",
       "1632  Other Europe         Vans            PHEV  2019         3         0\n",
       "1639        Poland         Vans             BEV  2010         3         0\n",
       "1640        Poland         Vans             BEV  2011         3         0\n",
       "1641        Poland         Vans             BEV  2012        16         0\n",
       "1642        Poland         Vans             BEV  2013        10         0\n",
       "1643        Poland         Vans             BEV  2014         8         0\n",
       "1645        Poland         Vans            PHEV  2015         2         0\n",
       "1657      Portugal         Vans             BEV  2011         5         0\n",
       "1658      Portugal         Vans             BEV  2012        16         0\n",
       "1659      Portugal         Vans             BEV  2014        27         0\n",
       "1660      Portugal         Vans             BEV  2015        58         0\n",
       "1661      Portugal         Vans             BEV  2016        44         0\n",
       "1678         Spain         Vans             BEV  2011        24         0\n",
       "1679         Spain         Vans             BEV  2012       200         0\n",
       "1680         Spain         Vans             BEV  2013        72         0\n",
       "1681         Spain         Vans             BEV  2014       360         0\n",
       "1804        Brazil       Trucks             BEV  2020        15         0\n",
       "1805        Brazil       Trucks             BEV  2022      1300         0\n",
       "1806        Canada       Trucks             BEV  2010         1         0\n",
       "1890       Finland       Trucks             BEV  2017         2         0\n",
       "1911        France       Trucks            PHEV  2021        10         0\n",
       "1914       Germany       Trucks             BEV  2019       610         0\n",
       "1915       Germany       Trucks             BEV  2020       850         0\n",
       "1932         Italy       Trucks             BEV  2010         1         0\n",
       "1933         Italy       Trucks             BEV  2011         2         0\n",
       "1934         Italy       Trucks             BEV  2012         3         0\n",
       "1935         Italy       Trucks             BEV  2013         8         0\n",
       "1936         Italy       Trucks             BEV  2014         6         0\n",
       "1937         Italy       Trucks             BEV  2015         9         0\n",
       "1988        Poland       Trucks             BEV  2013         1         0\n",
       "2001         Spain       Trucks             BEV  2016        13         0\n",
       "2002         Spain       Trucks             BEV  2017         2         0\n",
       "2014   Switzerland       Trucks             BEV  2019        23         0\n",
       "2015   Switzerland       Trucks             BEV  2020        26         0\n",
       "2016   Switzerland       Trucks             BEV  2021        34         0"
      ]
     },
     "execution_count": 98,
     "metadata": {},
     "output_type": "execute_result"
    }
   ],
   "source": [
    "pd.set_option('display.max_rows', 85)\n",
    "df_sales_stock[(df_sales_stock['ev_stock']== 0) & (df_sales_stock['ev_sales']> 0) & (df_sales_stock['vehicle_type'].isin(['Cars', 'Buses', 'Vans', 'Trucks']))]"
   ]
  },
  {
   "cell_type": "markdown",
   "id": "da5a9c9e",
   "metadata": {},
   "source": [
    "It is only 80 rows of the total data set where this occurs, and it seems to be mostly small values for sales for these rows. There is not anything specific listed at the data source on why this would be occurring. It could be the vehicles were purchased from an international source within the country so that the stock was technically not in the country before the sale occurred. Regardless these rows should not cause a significant issue for the analysis and will be left how they are. "
   ]
  },
  {
   "cell_type": "markdown",
   "id": "b5a3b883",
   "metadata": {},
   "source": [
    "As noted above it was not impossible, but surprising, to see a ev_sales_share value of 88%. This meant that for a full year in one of the regions, 88% of vehicles of one vehicle_type sold were electric. It is worth checking on where this occurred to confirm if it is seems reasonable. "
   ]
  },
  {
   "cell_type": "code",
   "execution_count": 73,
   "id": "1d1e115a",
   "metadata": {},
   "outputs": [
    {
     "data": {
      "text/html": [
       "<div>\n",
       "<style scoped>\n",
       "    .dataframe tbody tr th:only-of-type {\n",
       "        vertical-align: middle;\n",
       "    }\n",
       "\n",
       "    .dataframe tbody tr th {\n",
       "        vertical-align: top;\n",
       "    }\n",
       "\n",
       "    .dataframe thead th {\n",
       "        text-align: right;\n",
       "    }\n",
       "</style>\n",
       "<table border=\"1\" class=\"dataframe\">\n",
       "  <thead>\n",
       "    <tr style=\"text-align: right;\">\n",
       "      <th></th>\n",
       "      <th>region</th>\n",
       "      <th>vehicle_type</th>\n",
       "      <th>year</th>\n",
       "      <th>ev_sales_share</th>\n",
       "      <th>ev_stock_share</th>\n",
       "    </tr>\n",
       "  </thead>\n",
       "  <tbody>\n",
       "    <tr>\n",
       "      <th>301</th>\n",
       "      <td>Norway</td>\n",
       "      <td>Cars</td>\n",
       "      <td>2022</td>\n",
       "      <td>0.88</td>\n",
       "      <td>0.27</td>\n",
       "    </tr>\n",
       "  </tbody>\n",
       "</table>\n",
       "</div>"
      ],
      "text/plain": [
       "     region vehicle_type  year  ev_sales_share  ev_stock_share\n",
       "301  Norway         Cars  2022            0.88            0.27"
      ]
     },
     "execution_count": 73,
     "metadata": {},
     "output_type": "execute_result"
    }
   ],
   "source": [
    "df_shares[df_shares['ev_sales_share'] == 0.88]"
   ]
  },
  {
   "cell_type": "markdown",
   "id": "7cd2440d",
   "metadata": {},
   "source": [
    "It is interesting but unsurprising to see that the the max value for ev_sales and ev_share occurred in the same row, for Norway in the most recent year of data. After some quick research it is clear that Norway is the global leader is eletric car adoption so these values are not surprsing or an indication that there is an issue with the data. "
   ]
  },
  {
   "cell_type": "markdown",
   "id": "2c6e0d62",
   "metadata": {},
   "source": [
    "Based on the above analysis, these six data sets are clean and prepared for further analysis. "
   ]
  },
  {
   "cell_type": "code",
   "execution_count": null,
   "id": "4e7426e4",
   "metadata": {},
   "outputs": [],
   "source": []
  }
 ],
 "metadata": {
  "kernelspec": {
   "display_name": "Python 3 (ipykernel)",
   "language": "python",
   "name": "python3"
  },
  "language_info": {
   "codemirror_mode": {
    "name": "ipython",
    "version": 3
   },
   "file_extension": ".py",
   "mimetype": "text/x-python",
   "name": "python",
   "nbconvert_exporter": "python",
   "pygments_lexer": "ipython3",
   "version": "3.9.13"
  }
 },
 "nbformat": 4,
 "nbformat_minor": 5
}
